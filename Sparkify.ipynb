{
 "cells": [
  {
   "cell_type": "markdown",
   "metadata": {},
   "source": [
    "# Sparkify Project Workspace\n",
    "This workspace contains a tiny subset (128MB) of the full dataset available (12GB). Feel free to use this workspace to build your project, or to explore a smaller subset with Spark before deploying your cluster on the cloud. Instructions for setting up your Spark cluster is included in the last lesson of the Extracurricular Spark Course content.\n",
    "\n",
    "You can follow the steps below to guide your data analysis and model building portion of this project."
   ]
  },
  {
   "cell_type": "markdown",
   "metadata": {},
   "source": [
    "[Load & Clean Dataset](#load) <br>\n",
    "[Exploratory Data Analysis](#EDA) <br>\n",
    "[Feature Engineering](#FE) <br>\n",
    "[Modeling](#Modeling)"
   ]
  },
  {
   "cell_type": "code",
   "execution_count": null,
   "metadata": {},
   "outputs": [],
   "source": [
    "#https://medium.com/analytics-vidhya/the-ultimate-markdown-guide-for-jupyter-notebook-d5e5abf728fd"
   ]
  },
  {
   "cell_type": "code",
   "execution_count": 1,
   "metadata": {},
   "outputs": [],
   "source": [
    "# import libraries\n",
    "from pyspark.sql import SparkSession\n",
    "from pyspark.sql import functions as F\n",
    "from pyspark.sql.functions import max as sparkMax\n",
    "from pyspark.sql.types import IntegerType, StringType, BooleanType, DateType, DoubleType\n",
    "from pyspark.sql.window import Window\n",
    "from pyspark.ml.feature import StandardScaler, VectorAssembler, StringIndexer, OneHotEncoder, Normalizer\n",
    "from pyspark.ml.classification import RandomForestClassifier, GBTClassifier, LogisticRegression\n",
    "from pyspark.ml import Pipeline\n",
    "from pyspark.ml.tuning import CrossValidator, ParamGridBuilder\n",
    "from pyspark.ml.evaluation import MulticlassClassificationEvaluator\n",
    "from pyspark.mllib.evaluation import BinaryClassificationMetrics as metric\n",
    "from sklearn.metrics import roc_curve, auc\n",
    "\n",
    "import time\n",
    "import datetime\n",
    "import numpy as np\n",
    "import pandas as pd\n",
    "import seaborn as sns\n",
    "from matplotlib import pyplot as plt"
   ]
  },
  {
   "cell_type": "code",
   "execution_count": 2,
   "metadata": {},
   "outputs": [],
   "source": [
    "# create a Spark session\n",
    "spark = SparkSession.builder \\\n",
    "    .master(\"local\") \\\n",
    "    .appName(\"Sparkify Project\") \\\n",
    "    .getOrCreate()"
   ]
  },
  {
   "cell_type": "code",
   "execution_count": 3,
   "metadata": {
    "scrolled": true
   },
   "outputs": [
    {
     "data": {
      "text/plain": [
       "[('spark.master', 'local'),\n",
       " ('spark.driver.port', '42787'),\n",
       " ('spark.rdd.compress', 'True'),\n",
       " ('spark.driver.host', '734797a7ccaa'),\n",
       " ('spark.serializer.objectStreamReset', '100'),\n",
       " ('spark.executor.id', 'driver'),\n",
       " ('spark.submit.deployMode', 'client'),\n",
       " ('spark.app.id', 'local-1636872736870'),\n",
       " ('spark.ui.showConsoleProgress', 'true'),\n",
       " ('spark.app.name', 'Sparkify Project')]"
      ]
     },
     "execution_count": 3,
     "metadata": {},
     "output_type": "execute_result"
    }
   ],
   "source": [
    "# check Spark session\n",
    "spark.sparkContext.getConf().getAll()"
   ]
  },
  {
   "cell_type": "code",
   "execution_count": 4,
   "metadata": {
    "scrolled": true
   },
   "outputs": [
    {
     "data": {
      "text/html": [
       "\n",
       "            <div>\n",
       "                <p><b>SparkSession - in-memory</b></p>\n",
       "                \n",
       "        <div>\n",
       "            <p><b>SparkContext</b></p>\n",
       "\n",
       "            <p><a href=\"http://734797a7ccaa:4040\">Spark UI</a></p>\n",
       "\n",
       "            <dl>\n",
       "              <dt>Version</dt>\n",
       "                <dd><code>v2.4.3</code></dd>\n",
       "              <dt>Master</dt>\n",
       "                <dd><code>local</code></dd>\n",
       "              <dt>AppName</dt>\n",
       "                <dd><code>Sparkify Project</code></dd>\n",
       "            </dl>\n",
       "        </div>\n",
       "        \n",
       "            </div>\n",
       "        "
      ],
      "text/plain": [
       "<pyspark.sql.session.SparkSession at 0x7ffad641c2e8>"
      ]
     },
     "execution_count": 4,
     "metadata": {},
     "output_type": "execute_result"
    }
   ],
   "source": [
    "spark"
   ]
  },
  {
   "cell_type": "markdown",
   "metadata": {},
   "source": [
    "<a id=\"load\"></a>"
   ]
  },
  {
   "cell_type": "markdown",
   "metadata": {},
   "source": [
    "# Load and Clean Dataset\n",
    "In this workspace, the mini-dataset file is `mini_sparkify_event_data.json`. Load and clean the dataset, checking for invalid or missing data - for example, records without userids or sessionids. "
   ]
  },
  {
   "cell_type": "markdown",
   "metadata": {},
   "source": [
    "### Load Data"
   ]
  },
  {
   "cell_type": "code",
   "execution_count": 5,
   "metadata": {},
   "outputs": [],
   "source": [
    "path = \"mini_sparkify_event_data.json\"\n",
    "event_log = spark.read.json(path)\n",
    "#event_log.persist()"
   ]
  },
  {
   "cell_type": "code",
   "execution_count": 6,
   "metadata": {},
   "outputs": [],
   "source": [
    "def shape(df):\n",
    "    '''\n",
    "    Replicated shape function used in Pandas to display number \n",
    "    of rows and columns in dataframe\n",
    "    '''\n",
    "    rows, cols = df.count(), len(df.columns)\n",
    "    shape = (rows, cols)\n",
    "    return shape"
   ]
  },
  {
   "cell_type": "code",
   "execution_count": 7,
   "metadata": {},
   "outputs": [
    {
     "data": {
      "text/plain": [
       "(286500, 18)"
      ]
     },
     "execution_count": 7,
     "metadata": {},
     "output_type": "execute_result"
    }
   ],
   "source": [
    "shape(event_log)"
   ]
  },
  {
   "cell_type": "markdown",
   "metadata": {},
   "source": [
    "### Check for missing values"
   ]
  },
  {
   "cell_type": "code",
   "execution_count": 8,
   "metadata": {},
   "outputs": [
    {
     "data": {
      "image/png": "[encoded data removed]",
      "text/plain": [
       "<matplotlib.figure.Figure at 0x7f78a01aecf8>"
      ]
     },
     "metadata": {},
     "output_type": "display_data"
    }
   ],
   "source": [
    "# visualise missing values\n",
    "# https://stackoverflow.com/questions/60878196/seaborn-rc-parameters-for-set-context-and-set-style\n",
    "\n",
    "viz_dict = {'axes.titlesize': 18,\n",
    "            'axes.labelsize': 16,\n",
    "            'figure.figsize': (7, 7),\n",
    "            'font_scale': 0.7\n",
    "            }\n",
    "\n",
    "sns.set_context(\"notebook\", rc=viz_dict)\n",
    "sns.set_style(\"darkgrid\")\n",
    "cmap = sns.cubehelix_palette(dark=0, light=1, as_cmap=True)\n",
    "\n",
    "sns.heatmap(event_log.toPandas().replace('', np.nan).isnull(), cbar=False, cmap=cmap);\n"
   ]
  },
  {
   "cell_type": "markdown",
   "metadata": {},
   "source": [
    "On closer inspection it appears that some of the missing values are not classed as NaN but just empty strings. The code below counts all these variations to get an accurate count of missing values by column. "
   ]
  },
  {
   "cell_type": "code",
   "execution_count": 9,
   "metadata": {},
   "outputs": [
    {
     "name": "stdout",
     "output_type": "stream",
     "text": [
      "-RECORD 0--------------\n",
      " artist        | 58406 \n",
      " auth          | 0     \n",
      " firstName     | 8346  \n",
      " gender        | 8346  \n",
      " itemInSession | 0     \n",
      " lastName      | 8346  \n",
      " length        | 58392 \n",
      " level         | 0     \n",
      " location      | 8346  \n",
      " method        | 0     \n",
      " page          | 0     \n",
      " registration  | 8346  \n",
      " sessionId     | 0     \n",
      " song          | 58445 \n",
      " status        | 0     \n",
      " ts            | 0     \n",
      " userAgent     | 8346  \n",
      " userId        | 8346  \n",
      "\n"
     ]
    }
   ],
   "source": [
    "event_log.select([F.count(F.when(F.col(c).contains('None') |\n",
    "                          F.col(c).contains('NULL') |\n",
    "                        (F.col(c) == '') |\n",
    "                        F.col(c).isNull() |\n",
    "                        F.isnan(c), c\n",
    "                 )).alias(c)\n",
    "                    for c in event_log.columns]).show(vertical=True)"
   ]
  },
  {
   "cell_type": "markdown",
   "metadata": {},
   "source": [
    "8.3k records are missing userIds. On inspection, these were logged out or guest users. I will filter these records out from the data set"
   ]
  },
  {
   "cell_type": "code",
   "execution_count": 6,
   "metadata": {},
   "outputs": [],
   "source": [
    "#filter out records without a used id\n",
    "event_log = event_log.filter(F.col('userId') > 0)"
   ]
  },
  {
   "cell_type": "markdown",
   "metadata": {},
   "source": [
    "<a id=\"EDA\"></a>"
   ]
  },
  {
   "cell_type": "markdown",
   "metadata": {},
   "source": [
    "# Exploratory Data Analysis\n",
    "When you're working with the full dataset, perform EDA by loading a small subset of the data and doing basic manipulations within Spark. In this workspace, you are already provided a small subset of data you can explore.\n",
    "\n",
    "### Define Churn\n",
    "\n",
    "Once you've done some preliminary analysis, create a column `Churn` to use as the label for your model. I suggest using the `Cancellation Confirmation` events to define your churn, which happen for both paid and free users. As a bonus task, you can also look into the `Downgrade` events.\n",
    "\n",
    "### Explore Data\n",
    "Once you've defined churn, perform some exploratory data analysis to observe the behavior for users who stayed vs users who churned. You can start by exploring aggregates on these two groups of users, observing how much of a specific action they experienced per a certain time unit or number of songs played."
   ]
  },
  {
   "cell_type": "code",
   "execution_count": 5,
   "metadata": {
    "scrolled": true
   },
   "outputs": [
    {
     "name": "stdout",
     "output_type": "stream",
     "text": [
      "-RECORD 0-----------------------------\n",
      " artist        | Martha Tilston       \n",
      " auth          | Logged In            \n",
      " firstName     | Colin                \n",
      " gender        | M                    \n",
      " itemInSession | 50                   \n",
      " lastName      | Freeman              \n",
      " length        | 277.89016            \n",
      " level         | paid                 \n",
      " location      | Bakersfield, CA      \n",
      " method        | PUT                  \n",
      " page          | NextSong             \n",
      " registration  | 1538173362000        \n",
      " sessionId     | 29                   \n",
      " song          | Rockpools            \n",
      " status        | 200                  \n",
      " ts            | 1538352117000        \n",
      " userAgent     | Mozilla/5.0 (Wind... \n",
      " userId        | 30                   \n",
      "only showing top 1 row\n",
      "\n"
     ]
    }
   ],
   "source": [
    "event_log.show(n=1, vertical=True)"
   ]
  },
  {
   "cell_type": "code",
   "execution_count": 4,
   "metadata": {
    "scrolled": false
   },
   "outputs": [
    {
     "data": {
      "text/plain": [
       "[Row(artist='Martha Tilston', auth='Logged In', firstName='Colin', gender='M', itemInSession=50, lastName='Freeman', length=277.89016, level='paid', location='Bakersfield, CA', method='PUT', page='NextSong', registration=1538173362000, sessionId=29, song='Rockpools', status=200, ts=1538352117000, userAgent='Mozilla/5.0 (Windows NT 6.1; WOW64; rv:31.0) Gecko/20100101 Firefox/31.0', userId='30'),\n",
       " Row(artist='Five Iron Frenzy', auth='Logged In', firstName='Micah', gender='M', itemInSession=79, lastName='Long', length=236.09424, level='free', location='Boston-Cambridge-Newton, MA-NH', method='PUT', page='NextSong', registration=1538331630000, sessionId=8, song='Canada', status=200, ts=1538352180000, userAgent='\"Mozilla/5.0 (Windows NT 6.1; WOW64) AppleWebKit/537.36 (KHTML, like Gecko) Chrome/37.0.2062.103 Safari/537.36\"', userId='9'),\n",
       " Row(artist='Adam Lambert', auth='Logged In', firstName='Colin', gender='M', itemInSession=51, lastName='Freeman', length=282.8273, level='paid', location='Bakersfield, CA', method='PUT', page='NextSong', registration=1538173362000, sessionId=29, song='Time For Miracles', status=200, ts=1538352394000, userAgent='Mozilla/5.0 (Windows NT 6.1; WOW64; rv:31.0) Gecko/20100101 Firefox/31.0', userId='30'),\n",
       " Row(artist='Enigma', auth='Logged In', firstName='Micah', gender='M', itemInSession=80, lastName='Long', length=262.71302, level='free', location='Boston-Cambridge-Newton, MA-NH', method='PUT', page='NextSong', registration=1538331630000, sessionId=8, song='Knocking On Forbidden Doors', status=200, ts=1538352416000, userAgent='\"Mozilla/5.0 (Windows NT 6.1; WOW64) AppleWebKit/537.36 (KHTML, like Gecko) Chrome/37.0.2062.103 Safari/537.36\"', userId='9'),\n",
       " Row(artist='Daft Punk', auth='Logged In', firstName='Colin', gender='M', itemInSession=52, lastName='Freeman', length=223.60771, level='paid', location='Bakersfield, CA', method='PUT', page='NextSong', registration=1538173362000, sessionId=29, song='Harder Better Faster Stronger', status=200, ts=1538352676000, userAgent='Mozilla/5.0 (Windows NT 6.1; WOW64; rv:31.0) Gecko/20100101 Firefox/31.0', userId='30')]"
      ]
     },
     "execution_count": 4,
     "metadata": {},
     "output_type": "execute_result"
    }
   ],
   "source": [
    "event_log.take(5)"
   ]
  },
  {
   "cell_type": "code",
   "execution_count": 5,
   "metadata": {
    "scrolled": true
   },
   "outputs": [
    {
     "name": "stdout",
     "output_type": "stream",
     "text": [
      "root\n",
      " |-- artist: string (nullable = true)\n",
      " |-- auth: string (nullable = true)\n",
      " |-- firstName: string (nullable = true)\n",
      " |-- gender: string (nullable = true)\n",
      " |-- itemInSession: long (nullable = true)\n",
      " |-- lastName: string (nullable = true)\n",
      " |-- length: double (nullable = true)\n",
      " |-- level: string (nullable = true)\n",
      " |-- location: string (nullable = true)\n",
      " |-- method: string (nullable = true)\n",
      " |-- page: string (nullable = true)\n",
      " |-- registration: long (nullable = true)\n",
      " |-- sessionId: long (nullable = true)\n",
      " |-- song: string (nullable = true)\n",
      " |-- status: long (nullable = true)\n",
      " |-- ts: long (nullable = true)\n",
      " |-- userAgent: string (nullable = true)\n",
      " |-- userId: string (nullable = true)\n",
      "\n"
     ]
    }
   ],
   "source": [
    "event_log.printSchema()"
   ]
  },
  {
   "cell_type": "code",
   "execution_count": 7,
   "metadata": {
    "collapsed": true
   },
   "outputs": [
    {
     "ename": "KeyboardInterrupt",
     "evalue": "",
     "output_type": "error",
     "traceback": [
      "\u001b[0;31m---------------------------------------------------------------------------\u001b[0m",
      "\u001b[0;31mKeyboardInterrupt\u001b[0m                         Traceback (most recent call last)",
      "\u001b[0;32m<ipython-input-7-07aca98b7665>\u001b[0m in \u001b[0;36m<module>\u001b[0;34m()\u001b[0m\n\u001b[0;32m----> 1\u001b[0;31m \u001b[0mevent_log\u001b[0m\u001b[0;34m.\u001b[0m\u001b[0mdescribe\u001b[0m\u001b[0;34m(\u001b[0m\u001b[0;34m)\u001b[0m\u001b[0;34m\u001b[0m\u001b[0m\n\u001b[0m",
      "\u001b[0;32m/opt/spark-2.4.3-bin-hadoop2.7/python/pyspark/sql/dataframe.py\u001b[0m in \u001b[0;36mdescribe\u001b[0;34m(self, *cols)\u001b[0m\n\u001b[1;32m   1170\u001b[0m         \u001b[0;32mif\u001b[0m \u001b[0mlen\u001b[0m\u001b[0;34m(\u001b[0m\u001b[0mcols\u001b[0m\u001b[0;34m)\u001b[0m \u001b[0;34m==\u001b[0m \u001b[0;36m1\u001b[0m \u001b[0;32mand\u001b[0m \u001b[0misinstance\u001b[0m\u001b[0;34m(\u001b[0m\u001b[0mcols\u001b[0m\u001b[0;34m[\u001b[0m\u001b[0;36m0\u001b[0m\u001b[0;34m]\u001b[0m\u001b[0;34m,\u001b[0m \u001b[0mlist\u001b[0m\u001b[0;34m)\u001b[0m\u001b[0;34m:\u001b[0m\u001b[0;34m\u001b[0m\u001b[0m\n\u001b[1;32m   1171\u001b[0m             \u001b[0mcols\u001b[0m \u001b[0;34m=\u001b[0m \u001b[0mcols\u001b[0m\u001b[0;34m[\u001b[0m\u001b[0;36m0\u001b[0m\u001b[0;34m]\u001b[0m\u001b[0;34m\u001b[0m\u001b[0m\n\u001b[0;32m-> 1172\u001b[0;31m         \u001b[0mjdf\u001b[0m \u001b[0;34m=\u001b[0m \u001b[0mself\u001b[0m\u001b[0;34m.\u001b[0m\u001b[0m_jdf\u001b[0m\u001b[0;34m.\u001b[0m\u001b[0mdescribe\u001b[0m\u001b[0;34m(\u001b[0m\u001b[0mself\u001b[0m\u001b[0;34m.\u001b[0m\u001b[0m_jseq\u001b[0m\u001b[0;34m(\u001b[0m\u001b[0mcols\u001b[0m\u001b[0;34m)\u001b[0m\u001b[0;34m)\u001b[0m\u001b[0;34m\u001b[0m\u001b[0m\n\u001b[0m\u001b[1;32m   1173\u001b[0m         \u001b[0;32mreturn\u001b[0m \u001b[0mDataFrame\u001b[0m\u001b[0;34m(\u001b[0m\u001b[0mjdf\u001b[0m\u001b[0;34m,\u001b[0m \u001b[0mself\u001b[0m\u001b[0;34m.\u001b[0m\u001b[0msql_ctx\u001b[0m\u001b[0;34m)\u001b[0m\u001b[0;34m\u001b[0m\u001b[0m\n\u001b[1;32m   1174\u001b[0m \u001b[0;34m\u001b[0m\u001b[0m\n",
      "\u001b[0;32m/opt/spark-2.4.3-bin-hadoop2.7/python/lib/py4j-0.10.7-src.zip/py4j/java_gateway.py\u001b[0m in \u001b[0;36m__call__\u001b[0;34m(self, *args)\u001b[0m\n\u001b[1;32m   1253\u001b[0m             \u001b[0mproto\u001b[0m\u001b[0;34m.\u001b[0m\u001b[0mEND_COMMAND_PART\u001b[0m\u001b[0;34m\u001b[0m\u001b[0m\n\u001b[1;32m   1254\u001b[0m \u001b[0;34m\u001b[0m\u001b[0m\n\u001b[0;32m-> 1255\u001b[0;31m         \u001b[0manswer\u001b[0m \u001b[0;34m=\u001b[0m \u001b[0mself\u001b[0m\u001b[0;34m.\u001b[0m\u001b[0mgateway_client\u001b[0m\u001b[0;34m.\u001b[0m\u001b[0msend_command\u001b[0m\u001b[0;34m(\u001b[0m\u001b[0mcommand\u001b[0m\u001b[0;34m)\u001b[0m\u001b[0;34m\u001b[0m\u001b[0m\n\u001b[0m\u001b[1;32m   1256\u001b[0m         return_value = get_return_value(\n\u001b[1;32m   1257\u001b[0m             answer, self.gateway_client, self.target_id, self.name)\n",
      "\u001b[0;32m/opt/spark-2.4.3-bin-hadoop2.7/python/lib/py4j-0.10.7-src.zip/py4j/java_gateway.py\u001b[0m in \u001b[0;36msend_command\u001b[0;34m(self, command, retry, binary)\u001b[0m\n\u001b[1;32m    983\u001b[0m         \u001b[0mconnection\u001b[0m \u001b[0;34m=\u001b[0m \u001b[0mself\u001b[0m\u001b[0;34m.\u001b[0m\u001b[0m_get_connection\u001b[0m\u001b[0;34m(\u001b[0m\u001b[0;34m)\u001b[0m\u001b[0;34m\u001b[0m\u001b[0m\n\u001b[1;32m    984\u001b[0m         \u001b[0;32mtry\u001b[0m\u001b[0;34m:\u001b[0m\u001b[0;34m\u001b[0m\u001b[0m\n\u001b[0;32m--> 985\u001b[0;31m             \u001b[0mresponse\u001b[0m \u001b[0;34m=\u001b[0m \u001b[0mconnection\u001b[0m\u001b[0;34m.\u001b[0m\u001b[0msend_command\u001b[0m\u001b[0;34m(\u001b[0m\u001b[0mcommand\u001b[0m\u001b[0;34m)\u001b[0m\u001b[0;34m\u001b[0m\u001b[0m\n\u001b[0m\u001b[1;32m    986\u001b[0m             \u001b[0;32mif\u001b[0m \u001b[0mbinary\u001b[0m\u001b[0;34m:\u001b[0m\u001b[0;34m\u001b[0m\u001b[0m\n\u001b[1;32m    987\u001b[0m                 \u001b[0;32mreturn\u001b[0m \u001b[0mresponse\u001b[0m\u001b[0;34m,\u001b[0m \u001b[0mself\u001b[0m\u001b[0;34m.\u001b[0m\u001b[0m_create_connection_guard\u001b[0m\u001b[0;34m(\u001b[0m\u001b[0mconnection\u001b[0m\u001b[0;34m)\u001b[0m\u001b[0;34m\u001b[0m\u001b[0m\n",
      "\u001b[0;32m/opt/spark-2.4.3-bin-hadoop2.7/python/lib/py4j-0.10.7-src.zip/py4j/java_gateway.py\u001b[0m in \u001b[0;36msend_command\u001b[0;34m(self, command)\u001b[0m\n\u001b[1;32m   1150\u001b[0m \u001b[0;34m\u001b[0m\u001b[0m\n\u001b[1;32m   1151\u001b[0m         \u001b[0;32mtry\u001b[0m\u001b[0;34m:\u001b[0m\u001b[0;34m\u001b[0m\u001b[0m\n\u001b[0;32m-> 1152\u001b[0;31m             \u001b[0manswer\u001b[0m \u001b[0;34m=\u001b[0m \u001b[0msmart_decode\u001b[0m\u001b[0;34m(\u001b[0m\u001b[0mself\u001b[0m\u001b[0;34m.\u001b[0m\u001b[0mstream\u001b[0m\u001b[0;34m.\u001b[0m\u001b[0mreadline\u001b[0m\u001b[0;34m(\u001b[0m\u001b[0;34m)\u001b[0m\u001b[0;34m[\u001b[0m\u001b[0;34m:\u001b[0m\u001b[0;34m-\u001b[0m\u001b[0;36m1\u001b[0m\u001b[0;34m]\u001b[0m\u001b[0;34m)\u001b[0m\u001b[0;34m\u001b[0m\u001b[0m\n\u001b[0m\u001b[1;32m   1153\u001b[0m             \u001b[0mlogger\u001b[0m\u001b[0;34m.\u001b[0m\u001b[0mdebug\u001b[0m\u001b[0;34m(\u001b[0m\u001b[0;34m\"Answer received: {0}\"\u001b[0m\u001b[0;34m.\u001b[0m\u001b[0mformat\u001b[0m\u001b[0;34m(\u001b[0m\u001b[0manswer\u001b[0m\u001b[0;34m)\u001b[0m\u001b[0;34m)\u001b[0m\u001b[0;34m\u001b[0m\u001b[0m\n\u001b[1;32m   1154\u001b[0m             \u001b[0;32mif\u001b[0m \u001b[0manswer\u001b[0m\u001b[0;34m.\u001b[0m\u001b[0mstartswith\u001b[0m\u001b[0;34m(\u001b[0m\u001b[0mproto\u001b[0m\u001b[0;34m.\u001b[0m\u001b[0mRETURN_MESSAGE\u001b[0m\u001b[0;34m)\u001b[0m\u001b[0;34m:\u001b[0m\u001b[0;34m\u001b[0m\u001b[0m\n",
      "\u001b[0;32m/opt/conda/lib/python3.6/socket.py\u001b[0m in \u001b[0;36mreadinto\u001b[0;34m(self, b)\u001b[0m\n\u001b[1;32m    584\u001b[0m         \u001b[0;32mwhile\u001b[0m \u001b[0;32mTrue\u001b[0m\u001b[0;34m:\u001b[0m\u001b[0;34m\u001b[0m\u001b[0m\n\u001b[1;32m    585\u001b[0m             \u001b[0;32mtry\u001b[0m\u001b[0;34m:\u001b[0m\u001b[0;34m\u001b[0m\u001b[0m\n\u001b[0;32m--> 586\u001b[0;31m                 \u001b[0;32mreturn\u001b[0m \u001b[0mself\u001b[0m\u001b[0;34m.\u001b[0m\u001b[0m_sock\u001b[0m\u001b[0;34m.\u001b[0m\u001b[0mrecv_into\u001b[0m\u001b[0;34m(\u001b[0m\u001b[0mb\u001b[0m\u001b[0;34m)\u001b[0m\u001b[0;34m\u001b[0m\u001b[0m\n\u001b[0m\u001b[1;32m    587\u001b[0m             \u001b[0;32mexcept\u001b[0m \u001b[0mtimeout\u001b[0m\u001b[0;34m:\u001b[0m\u001b[0;34m\u001b[0m\u001b[0m\n\u001b[1;32m    588\u001b[0m                 \u001b[0mself\u001b[0m\u001b[0;34m.\u001b[0m\u001b[0m_timeout_occurred\u001b[0m \u001b[0;34m=\u001b[0m \u001b[0;32mTrue\u001b[0m\u001b[0;34m\u001b[0m\u001b[0m\n",
      "\u001b[0;31mKeyboardInterrupt\u001b[0m: "
     ]
    }
   ],
   "source": [
    "event_log.describe().show()"
   ]
  },
  {
   "cell_type": "code",
   "execution_count": null,
   "metadata": {},
   "outputs": [],
   "source": [
    "+-------+------------------+----------+---------+------+------------------+--------+-----------------+------+-----------------+------+-------+--------------------+-----------------+--------------------+------------------+--------------------+--------------------+-----------------+\n",
    "|summary|            artist|      auth|firstName|gender|     itemInSession|lastName|           length| level|         location|method|   page|        registration|        sessionId|                song|            status|                  ts|           userAgent|           userId|\n",
    "+-------+------------------+----------+---------+------+------------------+--------+-----------------+------+-----------------+------+-------+--------------------+-----------------+--------------------+------------------+--------------------+--------------------+-----------------+\n",
    "|  count|            228108|    286500|   278154|278154|            286500|  278154|           228108|286500|           278154|286500| 286500|              278154|           286500|              228108|            286500|              286500|              278154|           286500|\n",
    "|   mean| 551.0852017937219|      null|     null|  null|114.41421291448516|    null|249.1171819778458|  null|             null|  null|   null|1.535358834084427...|1041.526554973822|            Infinity|210.05459685863875|1.540956889810483...|                null|59682.02278593872|\n",
    "| stddev|1217.7693079161374|      null|     null|  null|129.76726201140994|    null|99.23517921058361|  null|             null|  null|   null| 3.291321616327586E9|726.7762634630741|                 NaN| 31.50507848842214|1.5075439608226302E9|                null|109091.9499991047|\n",
    "|    min|               !!!| Cancelled| Adelaida|     F|                 0|   Adams|          0.78322|  free|       Albany, OR|   GET|  About|       1521380675000|                1|\u001c",
    "ÃÂg ÃÂtti Gr...|               200|       1538352117000|\"Mozilla/5.0 (Mac...|                 |\n",
    "|    max| ÃÂlafur Arnalds|Logged Out|   Zyonna|     M|              1321|  Wright|       3024.66567|  paid|Winston-Salem, NC|   PUT|Upgrade|       1543247354000|             2474|ÃÂau hafa slopp...|               404|       1543799476000|Mozilla/5.0 (comp...|               99|\n",
    "+-------+------------------+----------+---------+------+------------------+--------+-----------------+------+-----------------+------+-------+--------------------+-----------------+--------------------+------------------+--------------------+--------------------+-----------------+"
   ]
  },
  {
   "cell_type": "code",
   "execution_count": 10,
   "metadata": {},
   "outputs": [],
   "source": [
    "def count_dist(df, field):\n",
    "    '''\n",
    "    count distinct records for given field\n",
    "    '''\n",
    "    return df.select(field).distinct().count()"
   ]
  },
  {
   "cell_type": "code",
   "execution_count": 14,
   "metadata": {},
   "outputs": [
    {
     "data": {
      "text/plain": [
       "17656"
      ]
     },
     "execution_count": 14,
     "metadata": {},
     "output_type": "execute_result"
    }
   ],
   "source": [
    "# count number of artists\n",
    "count_dist(event_log, 'artist')"
   ]
  },
  {
   "cell_type": "code",
   "execution_count": 15,
   "metadata": {},
   "outputs": [
    {
     "data": {
      "text/plain": [
       "58481"
      ]
     },
     "execution_count": 15,
     "metadata": {},
     "output_type": "execute_result"
    }
   ],
   "source": [
    "# count number of songs\n",
    "count_dist(event_log, 'song')"
   ]
  },
  {
   "cell_type": "code",
   "execution_count": 13,
   "metadata": {
    "scrolled": true
   },
   "outputs": [
    {
     "name": "stdout",
     "output_type": "stream",
     "text": [
      "+--------------------+-----+\n",
      "|                song|count|\n",
      "+--------------------+-----+\n",
      "|      You're The One| 1153|\n",
      "|                Undo| 1026|\n",
      "|             Revelry|  854|\n",
      "|       Sehr kosmisch|  728|\n",
      "|Horn Concerto No....|  641|\n",
      "|Dog Days Are Over...|  574|\n",
      "|             Secrets|  466|\n",
      "|        Use Somebody|  459|\n",
      "|              Canada|  435|\n",
      "|             Invalid|  424|\n",
      "|    Ain't Misbehavin|  409|\n",
      "|       ReprÃÂ©sente|  393|\n",
      "|SinceritÃÂ© Et J...|  384|\n",
      "|Catch You Baby (S...|  373|\n",
      "|              Yellow|  343|\n",
      "|    Somebody To Love|  343|\n",
      "|    Hey_ Soul Sister|  334|\n",
      "|            The Gift|  327|\n",
      "|           Fireflies|  312|\n",
      "|          Love Story|  309|\n",
      "+--------------------+-----+\n",
      "only showing top 20 rows\n",
      "\n"
     ]
    }
   ],
   "source": [
    "# most popular songs\n",
    "event_log.filter(event_log.song != 'null').groupBy('song').count().\\\n",
    "    sort(\"count\", ascending=False).show()"
   ]
  },
  {
   "cell_type": "code",
   "execution_count": 14,
   "metadata": {},
   "outputs": [
    {
     "name": "stdout",
     "output_type": "stream",
     "text": [
      "+--------------------+-----+\n",
      "|              artist|count|\n",
      "+--------------------+-----+\n",
      "|       Kings Of Leon| 1841|\n",
      "|            Coldplay| 1813|\n",
      "|Florence + The Ma...| 1236|\n",
      "|       Dwight Yoakam| 1135|\n",
      "|            BjÃÂ¶rk| 1133|\n",
      "|      The Black Keys| 1125|\n",
      "|                Muse| 1090|\n",
      "|       Justin Bieber| 1044|\n",
      "|        Jack Johnson| 1007|\n",
      "|              Eminem|  953|\n",
      "|           Radiohead|  884|\n",
      "|     Alliance Ethnik|  876|\n",
      "|               Train|  854|\n",
      "|        Taylor Swift|  840|\n",
      "|         OneRepublic|  828|\n",
      "|         The Killers|  822|\n",
      "|         Linkin Park|  787|\n",
      "|         Evanescence|  781|\n",
      "|            Harmonia|  729|\n",
      "|       Guns N' Roses|  713|\n",
      "+--------------------+-----+\n",
      "only showing top 20 rows\n",
      "\n"
     ]
    }
   ],
   "source": [
    "# most popular artists\n",
    "event_log.filter(event_log.artist != 'null').groupBy('artist').count().\\\n",
    "    sort(\"count\", ascending=False).show()"
   ]
  },
  {
   "cell_type": "code",
   "execution_count": 15,
   "metadata": {},
   "outputs": [
    {
     "name": "stdout",
     "output_type": "stream",
     "text": [
      "+----------+------+\n",
      "|      auth| count|\n",
      "+----------+------+\n",
      "| Logged In|278102|\n",
      "|Logged Out|  8249|\n",
      "|     Guest|    97|\n",
      "| Cancelled|    52|\n",
      "+----------+------+\n",
      "\n"
     ]
    }
   ],
   "source": [
    "# count auth types\n",
    "event_log.groupBy('auth').count().sort(\"count\", ascending=False).show()"
   ]
  },
  {
   "cell_type": "code",
   "execution_count": 6,
   "metadata": {},
   "outputs": [
    {
     "name": "stdout",
     "output_type": "stream",
     "text": [
      "+------+------+\n",
      "|Gender| count|\n",
      "+------+------+\n",
      "|     F|154578|\n",
      "|     M|123576|\n",
      "|  null|  8346|\n",
      "+------+------+\n",
      "\n"
     ]
    }
   ],
   "source": [
    "# count auth types\n",
    "event_log.groupBy('Gender').count().sort(\"count\", ascending=False).show()"
   ]
  },
  {
   "cell_type": "code",
   "execution_count": 28,
   "metadata": {},
   "outputs": [
    {
     "name": "stdout",
     "output_type": "stream",
     "text": [
      "+-------------------------+------+\n",
      "|page                     |count |\n",
      "+-------------------------+------+\n",
      "|NextSong                 |228108|\n",
      "|Thumbs Up                |12551 |\n",
      "|Home                     |10082 |\n",
      "|Add to Playlist          |6526  |\n",
      "|Add Friend               |4277  |\n",
      "|Roll Advert              |3933  |\n",
      "|Logout                   |3226  |\n",
      "|Thumbs Down              |2546  |\n",
      "|Downgrade                |2055  |\n",
      "|Settings                 |1514  |\n",
      "|Help                     |1454  |\n",
      "|Upgrade                  |499   |\n",
      "|About                    |495   |\n",
      "|Save Settings            |310   |\n",
      "|Error                    |252   |\n",
      "|Submit Upgrade           |159   |\n",
      "|Submit Downgrade         |63    |\n",
      "|Cancel                   |52    |\n",
      "|Cancellation Confirmation|52    |\n",
      "+-------------------------+------+\n",
      "\n"
     ]
    }
   ],
   "source": [
    "# most frequently visited pages\n",
    "event_log.groupBy('page').count().sort(\"count\", ascending=False).\\\n",
    "    show(truncate=False)"
   ]
  },
  {
   "cell_type": "code",
   "execution_count": 10,
   "metadata": {},
   "outputs": [
    {
     "name": "stdout",
     "output_type": "stream",
     "text": [
      "total records: 278154\n",
      "unique users: 225\n"
     ]
    }
   ],
   "source": [
    "print(\"total records: {}\".format(event_log.count()))\n",
    "print(\"unique users: {}\".format(count_dist(event_log, 'userId')))"
   ]
  },
  {
   "cell_type": "code",
   "execution_count": 7,
   "metadata": {},
   "outputs": [
    {
     "name": "stdout",
     "output_type": "stream",
     "text": [
      "+---------+----------+\n",
      "|churn_ind|user_count|\n",
      "+---------+----------+\n",
      "|        1|        52|\n",
      "|        0|       173|\n",
      "+---------+----------+\n",
      "\n"
     ]
    }
   ],
   "source": [
    "# add churn flag + count by churned/retained\n",
    "churned = event_log.filter(event_log.page == 'Cancellation Confirmation')\\\n",
    "            .select('userID').dropDuplicates().rdd.flatMap(lambda x: x).collect()\n",
    "\n",
    "event_log = event_log\\\n",
    ".withColumn('churn_ind', F.when(F.col(\"userId\").isin(churned), 1).otherwise(0))\n",
    "\n",
    "event_log.groupBy(\"churn_ind\").agg(F.countDistinct(\"userId\").alias('user_count')).show()"
   ]
  },
  {
   "cell_type": "code",
   "execution_count": 13,
   "metadata": {},
   "outputs": [
    {
     "name": "stdout",
     "output_type": "stream",
     "text": [
      "+---------+------+----------+\n",
      "|churn_ind|gender|user_count|\n",
      "+---------+------+----------+\n",
      "|        1|     F|        20|\n",
      "|        0|     M|        89|\n",
      "|        1|     M|        32|\n",
      "|        0|     F|        84|\n",
      "+---------+------+----------+\n",
      "\n"
     ]
    }
   ],
   "source": [
    "# group by churn status and gender\n",
    "event_log.groupBy(\"churn_ind\", \"gender\").agg(F.countDistinct(\"userId\")\n",
    "                                             .alias('user_count')).show()"
   ]
  },
  {
   "cell_type": "code",
   "execution_count": 12,
   "metadata": {},
   "outputs": [],
   "source": [
    "# get most recent level for each user\n",
    "status = event_log.withColumn(\"last_record\", F.row_number()\\\n",
    "                           .over(Window.partitionBy(\"userId\").orderBy(F.desc(\"ts\")))\\\n",
    "                           .cast(IntegerType()))\n"
   ]
  },
  {
   "cell_type": "code",
   "execution_count": 13,
   "metadata": {
    "scrolled": false
   },
   "outputs": [
    {
     "name": "stdout",
     "output_type": "stream",
     "text": [
      "+-----+---------+-----+\n",
      "|level|churn_ind|count|\n",
      "+-----+---------+-----+\n",
      "| paid|        0|  114|\n",
      "| free|        0|   59|\n",
      "| paid|        1|   31|\n",
      "| free|        1|   21|\n",
      "+-----+---------+-----+\n",
      "\n"
     ]
    }
   ],
   "source": [
    "status.filter(status.last_record == 1).groupBy('level', 'churn_ind')\\\n",
    "                                        .count().sort(\"count\", ascending=False).show()"
   ]
  },
  {
   "cell_type": "code",
   "execution_count": 24,
   "metadata": {
    "scrolled": true
   },
   "outputs": [
    {
     "name": "stdout",
     "output_type": "stream",
     "text": [
      "+--------------------+-------------+\n",
      "|              Artist|count(Artist)|\n",
      "+--------------------+-------------+\n",
      "|       Kings Of Leon|         1841|\n",
      "|            Coldplay|         1813|\n",
      "|Florence + The Ma...|         1236|\n",
      "|       Dwight Yoakam|         1135|\n",
      "|            BjÃÂ¶rk|         1133|\n",
      "|      The Black Keys|         1125|\n",
      "|                Muse|         1090|\n",
      "|       Justin Bieber|         1044|\n",
      "|        Jack Johnson|         1007|\n",
      "|              Eminem|          953|\n",
      "|           Radiohead|          884|\n",
      "|     Alliance Ethnik|          876|\n",
      "|               Train|          854|\n",
      "|        Taylor Swift|          840|\n",
      "|         OneRepublic|          828|\n",
      "|         The Killers|          822|\n",
      "|         Linkin Park|          787|\n",
      "|         Evanescence|          781|\n",
      "|            Harmonia|          729|\n",
      "|       Guns N' Roses|          713|\n",
      "+--------------------+-------------+\n",
      "only showing top 20 rows\n",
      "\n"
     ]
    }
   ],
   "source": [
    "# most frequently played artists\n",
    "event_log.filter(event_log.page == 'NextSong').select('Artist')\\\n",
    "    .groupBy('Artist').agg({'Artist':'count'}).sort(F.desc('count(Artist)')).show()"
   ]
  },
  {
   "cell_type": "code",
   "execution_count": 8,
   "metadata": {},
   "outputs": [],
   "source": [
    "# calculate session time by user and session id\n",
    "avg_session_time = event_log.groupby(\"userId\", \"sessionId\")\\\n",
    "                              .agg(((F.max(event_log.ts)-F.min(event_log.ts))/(1000*60))\\\n",
    "                              .alias(\"avg_session_mins\"))"
   ]
  },
  {
   "cell_type": "code",
   "execution_count": 9,
   "metadata": {},
   "outputs": [],
   "source": [
    "# calcualte average session time per user:\n",
    "avg_session_time = avg_session_time.groupby(\"userId\").agg(F.avg(avg_session_time\\\n",
    "                                    .avg_session_mins).alias(\"avg_session_mins\")).sort(\"userId\")"
   ]
  },
  {
   "cell_type": "code",
   "execution_count": 10,
   "metadata": {},
   "outputs": [],
   "source": [
    "# round avg session time\n",
    "avg_session_time = avg_session_time.withColumn('avg_session_mins',\\\n",
    "                                               F.round(F.col('avg_session_mins'), 1))"
   ]
  },
  {
   "cell_type": "code",
   "execution_count": 11,
   "metadata": {},
   "outputs": [],
   "source": [
    "# parse userAgent and location fields to extract useful features \n",
    "device = F.udf(lambda x: x.split('(')[1].split(\";\")[0].split(\" \")[0]\n",
    "               .replace('\"', ' ').strip() if not x is None else \"\")\n",
    "\n",
    "browser = F.udf(lambda x: x.rsplit(' ', 1)[1].rsplit('/', 1)[0]\n",
    "                .replace('\"', ' ', 1).strip() if not x is None else \"\")\n",
    "\n",
    "state = F.udf(lambda x: x.split(',')[1].strip() if not x is None else \"\")\n",
    "\n",
    "event_log = event_log\\\n",
    "    .withColumn('device', device(event_log.userAgent))\\\n",
    "    .withColumn('browser', browser(event_log.userAgent))\\\n",
    "    .withColumn('state', state(event_log.location))"
   ]
  },
  {
   "cell_type": "code",
   "execution_count": 27,
   "metadata": {},
   "outputs": [
    {
     "name": "stdout",
     "output_type": "stream",
     "text": [
      "+----------+----------+\n",
      "|    device|user_count|\n",
      "+----------+----------+\n",
      "|   Windows|       106|\n",
      "| Macintosh|        86|\n",
      "|    iPhone|        13|\n",
      "|       X11|        12|\n",
      "|compatible|         5|\n",
      "|      iPad|         3|\n",
      "+----------+----------+\n",
      "\n"
     ]
    }
   ],
   "source": [
    "event_log.groupBy(\"device\").agg(F.countDistinct(\"userId\")\n",
    "                                .alias('user_count')).sort(\"user_count\", ascending=False).show()"
   ]
  },
  {
   "cell_type": "code",
   "execution_count": 23,
   "metadata": {
    "scrolled": false
   },
   "outputs": [
    {
     "name": "stdout",
     "output_type": "stream",
     "text": [
      "+----------+---------+----------+\n",
      "|    device|churn_ind|user_count|\n",
      "+----------+---------+----------+\n",
      "|    iPhone|        1|         4|\n",
      "|    iPhone|        0|         9|\n",
      "|      iPad|        0|         3|\n",
      "|compatible|        0|         5|\n",
      "|       X11|        0|         7|\n",
      "|       X11|        1|         5|\n",
      "|   Windows|        0|        82|\n",
      "|   Windows|        1|        24|\n",
      "| Macintosh|        0|        67|\n",
      "| Macintosh|        1|        19|\n",
      "+----------+---------+----------+\n",
      "\n"
     ]
    }
   ],
   "source": [
    "event_log.groupBy(\"device\", \"churn_ind\").agg(F.countDistinct(\"userId\")\\\n",
    "                                        .alias('user_count'))\\\n",
    "                                        .sort(\"device\", ascending=False).show()"
   ]
  },
  {
   "cell_type": "code",
   "execution_count": 46,
   "metadata": {
    "scrolled": false
   },
   "outputs": [
    {
     "name": "stdout",
     "output_type": "stream",
     "text": [
      "+-------+----------+\n",
      "|browser|user_count|\n",
      "+-------+----------+\n",
      "| Safari|       163|\n",
      "|Firefox|        50|\n",
      "|  Gecko|         7|\n",
      "|Trident|         5|\n",
      "+-------+----------+\n",
      "\n"
     ]
    }
   ],
   "source": [
    "event_log.groupBy(\"browser\").agg(F.countDistinct(\"userId\")\n",
    "                                 .alias('user_count')).sort(\"user_count\", ascending=False).show()"
   ]
  },
  {
   "cell_type": "code",
   "execution_count": 28,
   "metadata": {},
   "outputs": [
    {
     "name": "stdout",
     "output_type": "stream",
     "text": [
      "+-------+---------+----------+\n",
      "|browser|churn_ind|user_count|\n",
      "+-------+---------+----------+\n",
      "|Trident|        0|         5|\n",
      "| Safari|        0|       128|\n",
      "| Safari|        1|        35|\n",
      "|  Gecko|        0|         6|\n",
      "|  Gecko|        1|         1|\n",
      "|Firefox|        1|        16|\n",
      "|Firefox|        0|        34|\n",
      "+-------+---------+----------+\n",
      "\n"
     ]
    }
   ],
   "source": [
    "event_log.groupBy(\"browser\", \"churn_ind\").agg(F.countDistinct(\"userId\")\\\n",
    "                                        .alias('user_count'))\\\n",
    "                                        .sort(\"browser\", ascending=False).show()"
   ]
  },
  {
   "cell_type": "code",
   "execution_count": 52,
   "metadata": {
    "scrolled": true
   },
   "outputs": [
    {
     "name": "stdout",
     "output_type": "stream",
     "text": [
      "+------------+----------+\n",
      "|       state|user_count|\n",
      "+------------+----------+\n",
      "|          CA|        33|\n",
      "|          TX|        16|\n",
      "|    NY-NJ-PA|        15|\n",
      "|          FL|        14|\n",
      "|          CT|         7|\n",
      "|          AZ|         7|\n",
      "|          NC|         6|\n",
      "|    IL-IN-WI|         6|\n",
      "|       MO-IL|         6|\n",
      "|       NC-SC|         6|\n",
      "| PA-NJ-DE-MD|         5|\n",
      "|          NY|         5|\n",
      "|          MI|         5|\n",
      "|       MA-NH|         5|\n",
      "|          WA|         4|\n",
      "| DC-VA-MD-WV|         4|\n",
      "|          AL|         4|\n",
      "|          GA|         4|\n",
      "|          CO|         4|\n",
      "|          MS|         3|\n",
      "|          KY|         3|\n",
      "|          NV|         3|\n",
      "|          PA|         3|\n",
      "|          OH|         3|\n",
      "|          IL|         3|\n",
      "|       MN-WI|         3|\n",
      "|          IN|         3|\n",
      "|          LA|         2|\n",
      "|          SC|         2|\n",
      "|       VA-NC|         2|\n",
      "|       RI-MA|         2|\n",
      "|          MD|         2|\n",
      "|          NH|         2|\n",
      "|          AK|         2|\n",
      "|          MT|         2|\n",
      "|          VA|         2|\n",
      "|       MO-KS|         2|\n",
      "|       OR-WA|         2|\n",
      "|       GA-AL|         2|\n",
      "|    OH-KY-IN|         2|\n",
      "|          NJ|         2|\n",
      "|       NE-IA|         1|\n",
      "|       PA-NJ|         1|\n",
      "|          AR|         1|\n",
      "|       MD-WV|         1|\n",
      "|          OR|         1|\n",
      "|       IL-MO|         1|\n",
      "|          WV|         1|\n",
      "|    TN-MS-AR|         1|\n",
      "|          IA|         1|\n",
      "|       KY-IN|         1|\n",
      "|       TN-VA|         1|\n",
      "|          WI|         1|\n",
      "|          UT|         1|\n",
      "|       UT-ID|         1|\n",
      "|          TN|         1|\n",
      "|       SC-NC|         1|\n",
      "|          OK|         1|\n",
      "+------------+----------+\n",
      "\n"
     ]
    }
   ],
   "source": [
    "event_log.groupBy(\"state\").agg(F.countDistinct(\"userId\")\n",
    "                               .alias('user_count')).sort(\"user_count\", ascending=False).show(150)"
   ]
  },
  {
   "cell_type": "markdown",
   "metadata": {},
   "source": [
    "### Create customer analytical records - new features"
   ]
  },
  {
   "cell_type": "code",
   "execution_count": 12,
   "metadata": {},
   "outputs": [],
   "source": [
    "# https://sparkbyexamples.com/spark/spark-collect-list-and-collect-set-functions/\n",
    "# Spark SQL function collect_set() is similar to collect_list() with difference being, collect_set() \n",
    "# dedupe or eliminates the duplicates and results in unique for each value.\n",
    "\n",
    "user = Window().partitionBy('userId')\n",
    "\n",
    "user_log = event_log.filter(\"userId != ''\")\\\n",
    "    .withColumn('gender', F.when(F.col('gender') == \"M\", 1).otherwise(0))\\\n",
    "    .withColumn('total_events', F.count('*').over(user))\\\n",
    "    .withColumn('total_songs', F.count(\"song\").over(user))\\\n",
    "    .withColumn('reg_dt', F.from_unixtime(F.col('registration')/1000).cast(DateType()))\\\n",
    "    .withColumn('min_dt',  F.from_unixtime((F.min(\"ts\").over(user))/1000).cast(DateType()))\\\n",
    "    .withColumn('max_dt', F.from_unixtime((F.max(\"ts\").over(user))/1000).cast(DateType()))\\\n",
    "    .withColumn('max_unix', F.max(\"ts\").over(user))\\\n",
    "    .withColumn('total_sessions', F.size(F.collect_set(F.col('sessionId')).over(user)))\\\n",
    "    .withColumn('roll_ads', F.sum(F.when(F.col('page') == 'Roll Advert', 1).otherwise(0)).over(user))\\\n",
    "    .withColumn('add_friend', F.sum(F.when(F.col('page') == 'Add Friend', 1).otherwise(0)).over(user))\\\n",
    "    .select(*['userId', 'gender', 'total_events', 'total_songs', 'reg_dt', 'min_dt', 'max_dt', \n",
    "              'browser', 'device', 'state', 'max_unix', 'total_sessions', 'roll_ads', 'add_friend']).distinct()"
   ]
  },
  {
   "cell_type": "markdown",
   "metadata": {},
   "source": [
    "**Feature: avg session time**"
   ]
  },
  {
   "cell_type": "code",
   "execution_count": 13,
   "metadata": {},
   "outputs": [],
   "source": [
    "user_log = user_log.join(avg_session_time,\\\n",
    "                    [user_log.userId == avg_session_time.userId], how=\"left\").\\\n",
    "                    select(user_log['*'], \"avg_session_mins\")"
   ]
  },
  {
   "cell_type": "markdown",
   "metadata": {},
   "source": [
    "**Feature: unique songs**"
   ]
  },
  {
   "cell_type": "code",
   "execution_count": 14,
   "metadata": {},
   "outputs": [],
   "source": [
    "# unique_songs_listened_to\n",
    "songs = event_log.select('userId', 'song').dropDuplicates().groupBy('userId')\\\n",
    "        .count().withColumnRenamed(\"count\", \"unique_songs\")\n",
    "\n",
    "user_log = user_log.join(songs, [user_log.userId == songs.userId], how=\"left\")\\\n",
    "            .select(user_log['*'], \"unique_songs\")"
   ]
  },
  {
   "cell_type": "markdown",
   "metadata": {},
   "source": [
    "**Feature: unique artists**"
   ]
  },
  {
   "cell_type": "code",
   "execution_count": 15,
   "metadata": {},
   "outputs": [],
   "source": [
    "# unique_songs_listened_to\n",
    "artists = event_log.select('userId', 'artist').dropDuplicates().groupBy('userId')\\\n",
    "            .count().withColumnRenamed(\"count\", \"unique_artists\")\n",
    "\n",
    "user_log = user_log.join(artists, [user_log.userId == artists.userId], how=\"left\")\\\n",
    "            .select(user_log['*'], \"unique_artists\")"
   ]
  },
  {
   "cell_type": "markdown",
   "metadata": {},
   "source": [
    "**Feature: Thumbs Up**"
   ]
  },
  {
   "cell_type": "code",
   "execution_count": 16,
   "metadata": {},
   "outputs": [],
   "source": [
    "# unique_songs_listened_to\n",
    "likes = event_log.select('userId', 'song').filter(event_log.page == 'Thumbs Up')\\\n",
    "        .groupBy('userId').count().withColumnRenamed(\"count\", \"likes\")\n",
    "\n",
    "user_log = user_log.join(likes, [user_log.userId == likes.userId], how=\"left\")\\\n",
    "            .select(user_log['*'], \"likes\")"
   ]
  },
  {
   "cell_type": "markdown",
   "metadata": {},
   "source": [
    "**Feature: Thumbs Down**"
   ]
  },
  {
   "cell_type": "code",
   "execution_count": 17,
   "metadata": {},
   "outputs": [],
   "source": [
    "#unique_songs_listened_to\n",
    "dislikes = event_log.select('userId', 'song').filter(event_log.page == 'Thumbs Down')\\\n",
    "            .groupBy('userId').count().withColumnRenamed(\"count\", \"dislikes\")\n",
    "\n",
    "user_log = user_log.join(dislikes, [user_log.userId == dislikes.userId], how=\"left\")\\\n",
    "            .select(user_log['*'], \"dislikes\")"
   ]
  },
  {
   "cell_type": "markdown",
   "metadata": {},
   "source": [
    "**Feature: Songs add to playlist**"
   ]
  },
  {
   "cell_type": "code",
   "execution_count": 18,
   "metadata": {},
   "outputs": [],
   "source": [
    "# songs added to playlist\n",
    "playlist = event_log.select('userId', 'song').filter(event_log.page == 'Add to Playlist')\\\n",
    "            .groupBy('userId').count().withColumnRenamed(\"count\", \"playlist_adds\")\n",
    "\n",
    "user_log = user_log.join(playlist, [user_log.userId == playlist.userId], how=\"left\")\\\n",
    "            .select(user_log['*'], \"playlist_adds\")"
   ]
  },
  {
   "cell_type": "code",
   "execution_count": 19,
   "metadata": {},
   "outputs": [],
   "source": [
    "# convert features to ratios and add to user_log df\n",
    "\n",
    "user_log = user_log\\\n",
    "    .withColumn('likes_ratio', F.round(user_log.likes/user_log.total_songs, 2))\\\n",
    "    .withColumn('dislikes_ratio', F.round(user_log.dislikes/user_log.total_songs, 2))\\\n",
    "    .withColumn('playlist_ratio', F.round(user_log.playlist_adds/user_log.total_songs, 2))\\\n",
    "    .withColumn('friend_ratio', F.round(user_log.add_friend/user_log.total_songs, 2))\\\n",
    "    .withColumn('addRoll_ratio', F.round(user_log.roll_ads/user_log.total_songs, 2))"
   ]
  },
  {
   "cell_type": "markdown",
   "metadata": {},
   "source": [
    "**Feature: churn flag and tenure**"
   ]
  },
  {
   "cell_type": "code",
   "execution_count": 20,
   "metadata": {},
   "outputs": [],
   "source": [
    "#churn flag and tenure using python syntax\n",
    "churned = event_log.filter(event_log.page == 'Cancellation Confirmation').\\\n",
    "            select('userID').dropDuplicates().rdd.flatMap(lambda x: x).collect()\n",
    "\n",
    "user_log = user_log\\\n",
    ".withColumn('tenure',F.datediff(F.col(\"max_dt\"), F.col(\"reg_dt\")))\\\n",
    ".withColumn('churn_ind', F.when(F.col(\"userId\").isin(churned),1).otherwise(0))\n"
   ]
  },
  {
   "cell_type": "code",
   "execution_count": 49,
   "metadata": {},
   "outputs": [
    {
     "name": "stdout",
     "output_type": "stream",
     "text": [
      "+---------+-----+\n",
      "|churn_ind|count|\n",
      "+---------+-----+\n",
      "|        0|  173|\n",
      "|        1|   52|\n",
      "+---------+-----+\n",
      "\n"
     ]
    }
   ],
   "source": [
    "user_log.groupBy(\"churn_ind\").count().sort((\"count\"), ascending=False).show()"
   ]
  },
  {
   "cell_type": "code",
   "execution_count": 106,
   "metadata": {},
   "outputs": [
    {
     "name": "stdout",
     "output_type": "stream",
     "text": [
      "+------+-----+\n",
      "|gender|count|\n",
      "+------+-----+\n",
      "|     1|  121|\n",
      "|     0|  104|\n",
      "+------+-----+\n",
      "\n"
     ]
    }
   ],
   "source": [
    "user_log.groupBy(\"gender\").count().sort((\"count\"), ascending=False).show()"
   ]
  },
  {
   "cell_type": "markdown",
   "metadata": {},
   "source": [
    "**Feature: User Level (last recorded status)**"
   ]
  },
  {
   "cell_type": "code",
   "execution_count": 21,
   "metadata": {},
   "outputs": [],
   "source": [
    "# get most recent level for each user\n",
    "user_level = event_log.groupby('userId', 'level')\\\n",
    "            .agg(sparkMax(event_log.ts).alias('max_ts')).sort('userId')\n",
    "\n",
    "user_log = user_log.join(user_level, [user_log.userId == user_level.userId,\n",
    "                                      user_log.max_unix == user_level.max_ts],\\\n",
    "                                         how = \"left\").select(user_log['*'], \"level\")"
   ]
  },
  {
   "cell_type": "code",
   "execution_count": 22,
   "metadata": {},
   "outputs": [],
   "source": [
    "# drop redundant columns\n",
    "\n",
    "cols = (\"min_dt\", \"reg_dt\", \"max_dt\", \"max_unix\", \"likes\", \"dislikes\",\n",
    "        \"playlist_adds\", \"roll_ads\", \"add_friend\")\n",
    "\n",
    "user_log = user_log.drop(*cols)"
   ]
  },
  {
   "cell_type": "code",
   "execution_count": 26,
   "metadata": {
    "scrolled": true
   },
   "outputs": [
    {
     "name": "stdout",
     "output_type": "stream",
     "text": [
      "-RECORD 0----------------------\n",
      " userId           | 200008     \n",
      " gender           | F          \n",
      " total_events     | 2012       \n",
      " total_songs      | 1669       \n",
      " reg_dt           | 2018-08-07 \n",
      " browser          | Safari     \n",
      " device           | Windows    \n",
      " state            | NC-SC      \n",
      " total_sessions   | 15         \n",
      " avg_session_mins | 452.3      \n",
      " unique_songs     | 1506       \n",
      " unique_artists   | 1160       \n",
      " likes_ratio      | 0.04       \n",
      " dislikes_ratio   | 0.03       \n",
      " playlist_ratio   | 0.03       \n",
      " friend_ratio     | 0.02       \n",
      " addRoll_ratio    | 0.0        \n",
      " tenure           | 116        \n",
      " churn_ind        | 0          \n",
      " level            | paid       \n",
      "-RECORD 1----------------------\n",
      " userId           | 96         \n",
      " gender           | F          \n",
      " total_events     | 2176       \n",
      " total_songs      | 1802       \n",
      " reg_dt           | 2018-09-17 \n",
      " browser          | Safari     \n",
      " device           | Macintosh  \n",
      " state            | NJ         \n",
      " total_sessions   | 19         \n",
      " avg_session_mins | 392.4      \n",
      " unique_songs     | 1625       \n",
      " unique_artists   | 1238       \n",
      " likes_ratio      | 0.05       \n",
      " dislikes_ratio   | 0.01       \n",
      " playlist_ratio   | 0.03       \n",
      " friend_ratio     | 0.02       \n",
      " addRoll_ratio    | 0.01       \n",
      " tenure           | 74         \n",
      " churn_ind        | 0          \n",
      " level            | paid       \n",
      "-RECORD 2----------------------\n",
      " userId           | 200002     \n",
      " gender           | M          \n",
      " total_events     | 474        \n",
      " total_songs      | 387        \n",
      " reg_dt           | 2018-09-06 \n",
      " browser          | Safari     \n",
      " device           | iPhone     \n",
      " state            | IL-IN-WI   \n",
      " total_sessions   | 6          \n",
      " avg_session_mins | 266.4      \n",
      " unique_songs     | 379        \n",
      " unique_artists   | 340        \n",
      " likes_ratio      | 0.05       \n",
      " dislikes_ratio   | 0.02       \n",
      " playlist_ratio   | 0.02       \n",
      " friend_ratio     | 0.01       \n",
      " addRoll_ratio    | 0.02       \n",
      " tenure           | 70         \n",
      " churn_ind        | 0          \n",
      " level            | paid       \n",
      "-RECORD 3----------------------\n",
      " userId           | 49         \n",
      " gender           | M          \n",
      " total_events     | 1091       \n",
      " total_songs      | 878        \n",
      " reg_dt           | 2018-08-15 \n",
      " browser          | Safari     \n",
      " device           | Windows    \n",
      " state            | CA         \n",
      " total_sessions   | 10         \n",
      " avg_session_mins | 356.4      \n",
      " unique_songs     | 814        \n",
      " unique_artists   | 685        \n",
      " likes_ratio      | 0.05       \n",
      " dislikes_ratio   | 0.01       \n",
      " playlist_ratio   | 0.03       \n",
      " friend_ratio     | 0.03       \n",
      " addRoll_ratio    | 0.01       \n",
      " tenure           | 107        \n",
      " churn_ind        | 0          \n",
      " level            | paid       \n",
      "-RECORD 4----------------------\n",
      " userId           | 68         \n",
      " gender           | F          \n",
      " total_events     | 48         \n",
      " total_songs      | 29         \n",
      " reg_dt           | 2018-08-15 \n",
      " browser          | Safari     \n",
      " device           | Macintosh  \n",
      " state            | OH-KY-IN   \n",
      " total_sessions   | 2          \n",
      " avg_session_mins | 63.7       \n",
      " unique_songs     | 30         \n",
      " unique_artists   | 30         \n",
      " likes_ratio      | 0.07       \n",
      " dislikes_ratio   | null       \n",
      " playlist_ratio   | null       \n",
      " friend_ratio     | 0.24       \n",
      " addRoll_ratio    | 0.14       \n",
      " tenure           | 100        \n",
      " churn_ind        | 0          \n",
      " level            | free       \n",
      "only showing top 5 rows\n",
      "\n"
     ]
    }
   ],
   "source": [
    "user_log.show(5, truncate=False, vertical=True)"
   ]
  },
  {
   "cell_type": "code",
   "execution_count": 120,
   "metadata": {
    "scrolled": true
   },
   "outputs": [
    {
     "data": {
      "text/plain": [
       "(225, 19)"
      ]
     },
     "execution_count": 120,
     "metadata": {},
     "output_type": "execute_result"
    }
   ],
   "source": [
    "shape(user_log)"
   ]
  },
  {
   "cell_type": "code",
   "execution_count": 23,
   "metadata": {},
   "outputs": [
    {
     "data": {
      "text/plain": [
       "DataFrame[userId: string, gender: int, total_events: bigint, total_songs: bigint, browser: string, device: string, state: string, total_sessions: int, avg_session_mins: double, unique_songs: bigint, unique_artists: bigint, likes_ratio: double, dislikes_ratio: double, playlist_ratio: double, friend_ratio: double, addRoll_ratio: double, tenure: int, churn_ind: int, level: string]"
      ]
     },
     "execution_count": 23,
     "metadata": {},
     "output_type": "execute_result"
    }
   ],
   "source": [
    "user_log.cache()"
   ]
  },
  {
   "cell_type": "code",
   "execution_count": 24,
   "metadata": {},
   "outputs": [],
   "source": [
    "# fill null values with 0 for modeling\n",
    "user_log_2 = user_log.fillna(value=0,\n",
    "                             subset=['dislikes_ratio',\n",
    "                                    'playlist_ratio', 'likes_ratio'])"
   ]
  },
  {
   "cell_type": "markdown",
   "metadata": {},
   "source": [
    "**create pandas df for data analysis and visualisation**"
   ]
  },
  {
   "cell_type": "code",
   "execution_count": 46,
   "metadata": {},
   "outputs": [],
   "source": [
    "user_log_df = user_log_2.toPandas()"
   ]
  },
  {
   "cell_type": "code",
   "execution_count": 89,
   "metadata": {},
   "outputs": [
    {
     "data": {
      "text/plain": [
       "pandas.core.frame.DataFrame"
      ]
     },
     "execution_count": 89,
     "metadata": {},
     "output_type": "execute_result"
    }
   ],
   "source": [
    "type(user_log_df)"
   ]
  },
  {
   "cell_type": "code",
   "execution_count": 149,
   "metadata": {},
   "outputs": [
    {
     "data": {
      "text/plain": [
       "(225, 17)"
      ]
     },
     "execution_count": 149,
     "metadata": {},
     "output_type": "execute_result"
    }
   ],
   "source": [
    "user_log_df.shape"
   ]
  },
  {
   "cell_type": "code",
   "execution_count": 150,
   "metadata": {},
   "outputs": [
    {
     "data": {
      "text/plain": [
       "userId               object\n",
       "gender               object\n",
       "total_events          int64\n",
       "total_songs           int64\n",
       "reg_dt               object\n",
       "total_sessions        int32\n",
       "avg_session_mins    float64\n",
       "unique_songs          int64\n",
       "unique_artists        int64\n",
       "likes_ratio         float64\n",
       "dislikes_ratio      float64\n",
       "playlist_ratio      float64\n",
       "friend_ratio        float64\n",
       "addRoll_ratio       float64\n",
       "tenure                int32\n",
       "churn_ind             int32\n",
       "level                object\n",
       "dtype: object"
      ]
     },
     "execution_count": 150,
     "metadata": {},
     "output_type": "execute_result"
    }
   ],
   "source": [
    "user_log_df.dtypes"
   ]
  },
  {
   "cell_type": "code",
   "execution_count": 151,
   "metadata": {},
   "outputs": [
    {
     "data": {
      "text/html": [
       "<div>\n",
       "<style scoped>\n",
       "    .dataframe tbody tr th:only-of-type {\n",
       "        vertical-align: middle;\n",
       "    }\n",
       "\n",
       "    .dataframe tbody tr th {\n",
       "        vertical-align: top;\n",
       "    }\n",
       "\n",
       "    .dataframe thead th {\n",
       "        text-align: right;\n",
       "    }\n",
       "</style>\n",
       "<table border=\"1\" class=\"dataframe\">\n",
       "  <thead>\n",
       "    <tr style=\"text-align: right;\">\n",
       "      <th></th>\n",
       "      <th>userId</th>\n",
       "      <th>gender</th>\n",
       "      <th>total_events</th>\n",
       "      <th>total_songs</th>\n",
       "      <th>reg_dt</th>\n",
       "      <th>total_sessions</th>\n",
       "      <th>avg_session_mins</th>\n",
       "      <th>unique_songs</th>\n",
       "      <th>unique_artists</th>\n",
       "      <th>likes_ratio</th>\n",
       "      <th>dislikes_ratio</th>\n",
       "      <th>playlist_ratio</th>\n",
       "      <th>friend_ratio</th>\n",
       "      <th>addRoll_ratio</th>\n",
       "      <th>tenure</th>\n",
       "      <th>churn_ind</th>\n",
       "      <th>level</th>\n",
       "    </tr>\n",
       "  </thead>\n",
       "  <tbody>\n",
       "    <tr>\n",
       "      <th>0</th>\n",
       "      <td>200008</td>\n",
       "      <td>F</td>\n",
       "      <td>2012</td>\n",
       "      <td>1669</td>\n",
       "      <td>2018-08-07</td>\n",
       "      <td>15</td>\n",
       "      <td>452.3</td>\n",
       "      <td>1506</td>\n",
       "      <td>1160</td>\n",
       "      <td>0.04</td>\n",
       "      <td>0.03</td>\n",
       "      <td>0.03</td>\n",
       "      <td>0.02</td>\n",
       "      <td>0.00</td>\n",
       "      <td>116</td>\n",
       "      <td>0</td>\n",
       "      <td>paid</td>\n",
       "    </tr>\n",
       "    <tr>\n",
       "      <th>1</th>\n",
       "      <td>96</td>\n",
       "      <td>F</td>\n",
       "      <td>2176</td>\n",
       "      <td>1802</td>\n",
       "      <td>2018-09-17</td>\n",
       "      <td>19</td>\n",
       "      <td>392.4</td>\n",
       "      <td>1625</td>\n",
       "      <td>1238</td>\n",
       "      <td>0.05</td>\n",
       "      <td>0.01</td>\n",
       "      <td>0.03</td>\n",
       "      <td>0.02</td>\n",
       "      <td>0.01</td>\n",
       "      <td>74</td>\n",
       "      <td>0</td>\n",
       "      <td>paid</td>\n",
       "    </tr>\n",
       "    <tr>\n",
       "      <th>2</th>\n",
       "      <td>200002</td>\n",
       "      <td>M</td>\n",
       "      <td>474</td>\n",
       "      <td>387</td>\n",
       "      <td>2018-09-06</td>\n",
       "      <td>6</td>\n",
       "      <td>266.4</td>\n",
       "      <td>379</td>\n",
       "      <td>340</td>\n",
       "      <td>0.05</td>\n",
       "      <td>0.02</td>\n",
       "      <td>0.02</td>\n",
       "      <td>0.01</td>\n",
       "      <td>0.02</td>\n",
       "      <td>70</td>\n",
       "      <td>0</td>\n",
       "      <td>paid</td>\n",
       "    </tr>\n",
       "    <tr>\n",
       "      <th>3</th>\n",
       "      <td>49</td>\n",
       "      <td>M</td>\n",
       "      <td>1091</td>\n",
       "      <td>878</td>\n",
       "      <td>2018-08-15</td>\n",
       "      <td>10</td>\n",
       "      <td>356.4</td>\n",
       "      <td>814</td>\n",
       "      <td>685</td>\n",
       "      <td>0.05</td>\n",
       "      <td>0.01</td>\n",
       "      <td>0.03</td>\n",
       "      <td>0.03</td>\n",
       "      <td>0.01</td>\n",
       "      <td>107</td>\n",
       "      <td>0</td>\n",
       "      <td>paid</td>\n",
       "    </tr>\n",
       "    <tr>\n",
       "      <th>4</th>\n",
       "      <td>68</td>\n",
       "      <td>F</td>\n",
       "      <td>48</td>\n",
       "      <td>29</td>\n",
       "      <td>2018-08-15</td>\n",
       "      <td>2</td>\n",
       "      <td>63.7</td>\n",
       "      <td>30</td>\n",
       "      <td>30</td>\n",
       "      <td>0.07</td>\n",
       "      <td>NaN</td>\n",
       "      <td>NaN</td>\n",
       "      <td>0.24</td>\n",
       "      <td>0.14</td>\n",
       "      <td>100</td>\n",
       "      <td>0</td>\n",
       "      <td>free</td>\n",
       "    </tr>\n",
       "  </tbody>\n",
       "</table>\n",
       "</div>"
      ],
      "text/plain": [
       "   userId gender  total_events  total_songs      reg_dt  total_sessions  \\\n",
       "0  200008      F          2012         1669  2018-08-07              15   \n",
       "1      96      F          2176         1802  2018-09-17              19   \n",
       "2  200002      M           474          387  2018-09-06               6   \n",
       "3      49      M          1091          878  2018-08-15              10   \n",
       "4      68      F            48           29  2018-08-15               2   \n",
       "\n",
       "   avg_session_mins  unique_songs  unique_artists  likes_ratio  \\\n",
       "0             452.3          1506            1160         0.04   \n",
       "1             392.4          1625            1238         0.05   \n",
       "2             266.4           379             340         0.05   \n",
       "3             356.4           814             685         0.05   \n",
       "4              63.7            30              30         0.07   \n",
       "\n",
       "   dislikes_ratio  playlist_ratio  friend_ratio  addRoll_ratio  tenure  \\\n",
       "0            0.03            0.03          0.02           0.00     116   \n",
       "1            0.01            0.03          0.02           0.01      74   \n",
       "2            0.02            0.02          0.01           0.02      70   \n",
       "3            0.01            0.03          0.03           0.01     107   \n",
       "4             NaN             NaN          0.24           0.14     100   \n",
       "\n",
       "   churn_ind level  \n",
       "0          0  paid  \n",
       "1          0  paid  \n",
       "2          0  paid  \n",
       "3          0  paid  \n",
       "4          0  free  "
      ]
     },
     "execution_count": 151,
     "metadata": {},
     "output_type": "execute_result"
    }
   ],
   "source": [
    "user_log_df.head()"
   ]
  },
  {
   "cell_type": "code",
   "execution_count": 63,
   "metadata": {},
   "outputs": [],
   "source": [
    "# plot churn by device\n",
    "def plot_cats(df, cat_variable):\n",
    "    '''\n",
    "    Function to plot categorical features vs churn status\n",
    "    '''\n",
    "    sns.set(style='white')    \n",
    "    ax = df.groupby([cat_variable, 'churn_ind']).size().unstack().plot(kind='bar', stacked=True)\n",
    "    ax.legend(title = \"churn\", bbox_to_anchor=(1.05, 1), loc='upper left', borderaxespad=0)\n",
    "    ax.set_title(label=(str(\"{} vs. churn_status\".format(cat_variable))))\n",
    "    sns.despine(top=True, right=True)\n",
    "    plt.show()"
   ]
  },
  {
   "cell_type": "code",
   "execution_count": 64,
   "metadata": {},
   "outputs": [
    {
     "data": {
      "image/png": "[encoded data removed]",
      "text/plain": [
       "<matplotlib.figure.Figure at 0x7f789d717b70>"
      ]
     },
     "metadata": {},
     "output_type": "display_data"
    }
   ],
   "source": [
    "plot_cats(user_log_df, 'gender')"
   ]
  },
  {
   "cell_type": "code",
   "execution_count": 65,
   "metadata": {},
   "outputs": [
    {
     "data": {
      "image/png": "[encoded data removed]",
      "text/plain": [
       "<matplotlib.figure.Figure at 0x7f789d268390>"
      ]
     },
     "metadata": {},
     "output_type": "display_data"
    }
   ],
   "source": [
    "plot_cats(user_log_df, 'device')"
   ]
  },
  {
   "cell_type": "code",
   "execution_count": 66,
   "metadata": {},
   "outputs": [
    {
     "data": {
      "image/png": "[encoded data removed]",
      "text/plain": [
       "<matplotlib.figure.Figure at 0x7f789dbc4668>"
      ]
     },
     "metadata": {},
     "output_type": "display_data"
    }
   ],
   "source": [
    "plot_cats(user_log_df, 'browser')"
   ]
  },
  {
   "cell_type": "code",
   "execution_count": 67,
   "metadata": {
    "scrolled": true
   },
   "outputs": [
    {
     "data": {
      "image/png": "[encoded data removed]",
      "text/plain": [
       "<matplotlib.figure.Figure at 0x7f789e09eba8>"
      ]
     },
     "metadata": {},
     "output_type": "display_data"
    }
   ],
   "source": [
    "plot_cats(user_log_df, 'level')"
   ]
  },
  {
   "cell_type": "code",
   "execution_count": 69,
   "metadata": {},
   "outputs": [
    {
     "data": {
      "image/png": "[encoded data removed]",
      "text/plain": [
       "<matplotlib.figure.Figure at 0x7f5a53743e10>"
      ]
     },
     "metadata": {},
     "output_type": "display_data"
    }
   ],
   "source": [
    "# plot churn by state\n",
    "viz_dict = {\n",
    "    'axes.titlesize':18,\n",
    "    'axes.labelsize':12,\n",
    "    'figure.figsize':(20, 4),\n",
    "    'font_scale': 0.7\n",
    "} \n",
    "\n",
    "#sns.set(rc={\"figure.figsize\":(20, 4)}) #width=3, #height=4\n",
    "sns.set_context(\"notebook\", rc=viz_dict)\n",
    "#sns.set(rc=viz_dict)\n",
    "ax = sns.countplot(data=user_log_df, x='state', hue='churn_ind', order=user_log_df['state'].value_counts().index)\n",
    "ax.set_xticklabels(ax.get_xticklabels(), rotation=90, horizontalalignment='right')\n",
    "ax.legend(title='Churn', bbox_to_anchor=(1.05, 1), loc='upper left', borderaxespad=0)\n",
    "plt.show();"
   ]
  },
  {
   "cell_type": "code",
   "execution_count": 31,
   "metadata": {},
   "outputs": [],
   "source": [
    "def plot_cont_relationship(variable):\n",
    "    '''\n",
    "    Function charts density plot for given variable split by churn/retained\n",
    "    '''\n",
    "    fig, ax = plt.subplots()\n",
    "\n",
    "    sns.distplot(user_log_df[user_log_df[\"churn_ind\"] == 1][variable], bins=10, label=\"churned\")\n",
    "    sns.distplot(user_log_df[user_log_df[\"churn_ind\"] == 0][variable], bins=10, label=\"retained\")\n",
    "\n",
    "    ax.set_xlabel(variable)\n",
    "    ax.set_ylabel(\"density\")\n",
    "\n",
    "    fig.suptitle(str(\"{} vs. churn_status\".format(variable)))\n",
    "\n",
    "    ax.legend();"
   ]
  },
  {
   "cell_type": "code",
   "execution_count": 174,
   "metadata": {},
   "outputs": [
    {
     "data": {
      "image/png": "[encoded data removed]",
      "text/plain": [
       "<matplotlib.figure.Figure at 0x7fa5342f6080>"
      ]
     },
     "metadata": {
      "needs_background": "light"
     },
     "output_type": "display_data"
    }
   ],
   "source": [
    "plot_cont_relationship(\"total_events\")"
   ]
  },
  {
   "cell_type": "code",
   "execution_count": 172,
   "metadata": {},
   "outputs": [
    {
     "data": {
      "image/png": "[encoded data removed]",
      "text/plain": [
       "<matplotlib.figure.Figure at 0x7fa534583e80>"
      ]
     },
     "metadata": {
      "needs_background": "light"
     },
     "output_type": "display_data"
    }
   ],
   "source": [
    "plot_cont_relationship(\"avg_session_mins\")"
   ]
  },
  {
   "cell_type": "code",
   "execution_count": 171,
   "metadata": {
    "scrolled": true
   },
   "outputs": [
    {
     "data": {
      "image/png": "[encoded data removed]",
      "text/plain": [
       "<matplotlib.figure.Figure at 0x7fa5346a3da0>"
      ]
     },
     "metadata": {
      "needs_background": "light"
     },
     "output_type": "display_data"
    }
   ],
   "source": [
    "plot_cont_relationship(\"tenure\")"
   ]
  },
  {
   "cell_type": "code",
   "execution_count": 170,
   "metadata": {},
   "outputs": [
    {
     "data": {
      "image/png": "[encoded data removed]",
      "text/plain": [
       "<matplotlib.figure.Figure at 0x7fa53474fe10>"
      ]
     },
     "metadata": {
      "needs_background": "light"
     },
     "output_type": "display_data"
    }
   ],
   "source": [
    "plot_cont_relationship(\"total_sessions\")"
   ]
  },
  {
   "cell_type": "markdown",
   "metadata": {},
   "source": [
    "**Check variable correlations**"
   ]
  },
  {
   "cell_type": "code",
   "execution_count": 30,
   "metadata": {},
   "outputs": [
    {
     "data": {
      "text/plain": [
       "<matplotlib.axes._subplots.AxesSubplot at 0x7f5a5b973710>"
      ]
     },
     "execution_count": 30,
     "metadata": {},
     "output_type": "execute_result"
    },
    {
     "data": {
      "image/png": "[encoded data removed]",
      "text/plain": [
       "<matplotlib.figure.Figure at 0x7f5a5b9a8c50>"
      ]
     },
     "metadata": {},
     "output_type": "display_data"
    }
   ],
   "source": [
    "# Compute the correlation matrix\n",
    "sns.set_style(\"white\")\n",
    "corr = user_log_df.corr()\n",
    "\n",
    "# Generate a mask for the upper triangle\n",
    "mask = np.triu(np.ones_like(corr, dtype=bool))\n",
    "\n",
    "# Set up the matplotlib figure\n",
    "f, ax = plt.subplots(figsize=(7, 6))\n",
    "\n",
    "# Generate a custom diverging colormap\n",
    "cmap = sns.diverging_palette(230, 20, as_cmap=True)\n",
    "\n",
    "# Draw the heatmap with the mask and correct aspect ratio\n",
    "sns.heatmap(corr, mask=mask, cmap=cmap);"
   ]
  },
  {
   "cell_type": "code",
   "execution_count": 175,
   "metadata": {},
   "outputs": [
    {
     "data": {
      "text/html": [
       "<div>\n",
       "<style scoped>\n",
       "    .dataframe tbody tr th:only-of-type {\n",
       "        vertical-align: middle;\n",
       "    }\n",
       "\n",
       "    .dataframe tbody tr th {\n",
       "        vertical-align: top;\n",
       "    }\n",
       "\n",
       "    .dataframe thead th {\n",
       "        text-align: right;\n",
       "    }\n",
       "</style>\n",
       "<table border=\"1\" class=\"dataframe\">\n",
       "  <thead>\n",
       "    <tr style=\"text-align: right;\">\n",
       "      <th></th>\n",
       "      <th>total_events</th>\n",
       "      <th>total_songs</th>\n",
       "      <th>total_sessions</th>\n",
       "      <th>avg_session_mins</th>\n",
       "      <th>unique_songs</th>\n",
       "      <th>likes_ratio</th>\n",
       "      <th>dislikes_ratio</th>\n",
       "      <th>playlist_ratio</th>\n",
       "      <th>tenure</th>\n",
       "      <th>churn_ind</th>\n",
       "    </tr>\n",
       "  </thead>\n",
       "  <tbody>\n",
       "    <tr>\n",
       "      <th>count</th>\n",
       "      <td>173.000000</td>\n",
       "      <td>173.000000</td>\n",
       "      <td>173.000000</td>\n",
       "      <td>173.00000</td>\n",
       "      <td>173.000000</td>\n",
       "      <td>170.000000</td>\n",
       "      <td>155.000000</td>\n",
       "      <td>165.000000</td>\n",
       "      <td>173.000000</td>\n",
       "      <td>173.0</td>\n",
       "    </tr>\n",
       "    <tr>\n",
       "      <th>mean</th>\n",
       "      <td>1348.497110</td>\n",
       "      <td>1108.173410</td>\n",
       "      <td>15.254335</td>\n",
       "      <td>296.75896</td>\n",
       "      <td>976.763006</td>\n",
       "      <td>0.055882</td>\n",
       "      <td>0.011613</td>\n",
       "      <td>0.028667</td>\n",
       "      <td>46.930636</td>\n",
       "      <td>0.0</td>\n",
       "    </tr>\n",
       "    <tr>\n",
       "      <th>std</th>\n",
       "      <td>1425.428637</td>\n",
       "      <td>1183.146703</td>\n",
       "      <td>15.866963</td>\n",
       "      <td>174.17181</td>\n",
       "      <td>951.918807</td>\n",
       "      <td>0.018384</td>\n",
       "      <td>0.006977</td>\n",
       "      <td>0.010565</td>\n",
       "      <td>16.124726</td>\n",
       "      <td>0.0</td>\n",
       "    </tr>\n",
       "    <tr>\n",
       "      <th>min</th>\n",
       "      <td>6.000000</td>\n",
       "      <td>3.000000</td>\n",
       "      <td>1.000000</td>\n",
       "      <td>7.00000</td>\n",
       "      <td>4.000000</td>\n",
       "      <td>0.020000</td>\n",
       "      <td>0.000000</td>\n",
       "      <td>0.010000</td>\n",
       "      <td>0.000000</td>\n",
       "      <td>0.0</td>\n",
       "    </tr>\n",
       "    <tr>\n",
       "      <th>25%</th>\n",
       "      <td>321.000000</td>\n",
       "      <td>251.000000</td>\n",
       "      <td>6.000000</td>\n",
       "      <td>166.20000</td>\n",
       "      <td>240.000000</td>\n",
       "      <td>0.050000</td>\n",
       "      <td>0.010000</td>\n",
       "      <td>0.020000</td>\n",
       "      <td>43.000000</td>\n",
       "      <td>0.0</td>\n",
       "    </tr>\n",
       "    <tr>\n",
       "      <th>50%</th>\n",
       "      <td>940.000000</td>\n",
       "      <td>747.000000</td>\n",
       "      <td>11.000000</td>\n",
       "      <td>268.30000</td>\n",
       "      <td>697.000000</td>\n",
       "      <td>0.050000</td>\n",
       "      <td>0.010000</td>\n",
       "      <td>0.030000</td>\n",
       "      <td>54.000000</td>\n",
       "      <td>0.0</td>\n",
       "    </tr>\n",
       "    <tr>\n",
       "      <th>75%</th>\n",
       "      <td>2005.000000</td>\n",
       "      <td>1640.000000</td>\n",
       "      <td>19.000000</td>\n",
       "      <td>392.20000</td>\n",
       "      <td>1478.000000</td>\n",
       "      <td>0.060000</td>\n",
       "      <td>0.010000</td>\n",
       "      <td>0.030000</td>\n",
       "      <td>58.000000</td>\n",
       "      <td>0.0</td>\n",
       "    </tr>\n",
       "    <tr>\n",
       "      <th>max</th>\n",
       "      <td>9632.000000</td>\n",
       "      <td>8002.000000</td>\n",
       "      <td>107.000000</td>\n",
       "      <td>1179.90000</td>\n",
       "      <td>5947.000000</td>\n",
       "      <td>0.130000</td>\n",
       "      <td>0.040000</td>\n",
       "      <td>0.090000</td>\n",
       "      <td>61.000000</td>\n",
       "      <td>0.0</td>\n",
       "    </tr>\n",
       "  </tbody>\n",
       "</table>\n",
       "</div>"
      ],
      "text/plain": [
       "       total_events  total_songs  total_sessions  avg_session_mins  \\\n",
       "count    173.000000   173.000000      173.000000         173.00000   \n",
       "mean    1348.497110  1108.173410       15.254335         296.75896   \n",
       "std     1425.428637  1183.146703       15.866963         174.17181   \n",
       "min        6.000000     3.000000        1.000000           7.00000   \n",
       "25%      321.000000   251.000000        6.000000         166.20000   \n",
       "50%      940.000000   747.000000       11.000000         268.30000   \n",
       "75%     2005.000000  1640.000000       19.000000         392.20000   \n",
       "max     9632.000000  8002.000000      107.000000        1179.90000   \n",
       "\n",
       "       unique_songs  likes_ratio  dislikes_ratio  playlist_ratio      tenure  \\\n",
       "count    173.000000   170.000000      155.000000      165.000000  173.000000   \n",
       "mean     976.763006     0.055882        0.011613        0.028667   46.930636   \n",
       "std      951.918807     0.018384        0.006977        0.010565   16.124726   \n",
       "min        4.000000     0.020000        0.000000        0.010000    0.000000   \n",
       "25%      240.000000     0.050000        0.010000        0.020000   43.000000   \n",
       "50%      697.000000     0.050000        0.010000        0.030000   54.000000   \n",
       "75%     1478.000000     0.060000        0.010000        0.030000   58.000000   \n",
       "max     5947.000000     0.130000        0.040000        0.090000   61.000000   \n",
       "\n",
       "       churn_ind  \n",
       "count      173.0  \n",
       "mean         0.0  \n",
       "std          0.0  \n",
       "min          0.0  \n",
       "25%          0.0  \n",
       "50%          0.0  \n",
       "75%          0.0  \n",
       "max          0.0  "
      ]
     },
     "execution_count": 175,
     "metadata": {},
     "output_type": "execute_result"
    }
   ],
   "source": [
    "user_log_df[user_log_df[\"churn_ind\"] == 0].describe()"
   ]
  },
  {
   "cell_type": "code",
   "execution_count": 176,
   "metadata": {},
   "outputs": [
    {
     "data": {
      "text/html": [
       "<div>\n",
       "<style scoped>\n",
       "    .dataframe tbody tr th:only-of-type {\n",
       "        vertical-align: middle;\n",
       "    }\n",
       "\n",
       "    .dataframe tbody tr th {\n",
       "        vertical-align: top;\n",
       "    }\n",
       "\n",
       "    .dataframe thead th {\n",
       "        text-align: right;\n",
       "    }\n",
       "</style>\n",
       "<table border=\"1\" class=\"dataframe\">\n",
       "  <thead>\n",
       "    <tr style=\"text-align: right;\">\n",
       "      <th></th>\n",
       "      <th>userId</th>\n",
       "      <th>gender</th>\n",
       "      <th>total_events</th>\n",
       "      <th>total_songs</th>\n",
       "      <th>total_sessions</th>\n",
       "      <th>avg_session_mins</th>\n",
       "      <th>unique_songs</th>\n",
       "      <th>likes_ratio</th>\n",
       "      <th>dislikes_ratio</th>\n",
       "      <th>playlist_ratio</th>\n",
       "      <th>tenure</th>\n",
       "      <th>churn_ind</th>\n",
       "      <th>level</th>\n",
       "    </tr>\n",
       "  </thead>\n",
       "  <tbody>\n",
       "    <tr>\n",
       "      <th>173</th>\n",
       "      <td>39</td>\n",
       "      <td>F</td>\n",
       "      <td>9632</td>\n",
       "      <td>8002</td>\n",
       "      <td>107</td>\n",
       "      <td>306.6</td>\n",
       "      <td>5947</td>\n",
       "      <td>0.05</td>\n",
       "      <td>0.01</td>\n",
       "      <td>0.03</td>\n",
       "      <td>60</td>\n",
       "      <td>0</td>\n",
       "      <td>paid</td>\n",
       "    </tr>\n",
       "  </tbody>\n",
       "</table>\n",
       "</div>"
      ],
      "text/plain": [
       "    userId gender  total_events  total_songs  total_sessions  \\\n",
       "173     39      F          9632         8002             107   \n",
       "\n",
       "     avg_session_mins  unique_songs  likes_ratio  dislikes_ratio  \\\n",
       "173             306.6          5947         0.05            0.01   \n",
       "\n",
       "     playlist_ratio  tenure  churn_ind level  \n",
       "173            0.03      60          0  paid  "
      ]
     },
     "execution_count": 176,
     "metadata": {},
     "output_type": "execute_result"
    }
   ],
   "source": [
    "user_log_df[user_log_df[\"total_songs\"] == 8002]"
   ]
  },
  {
   "cell_type": "code",
   "execution_count": 25,
   "metadata": {},
   "outputs": [],
   "source": [
    "# drop highly correlated variables\n",
    "cols = (\"total_events\", \"total_songs\", \"unique_songs\", \"unique_artists\", \"state\", \"userId\")\n",
    "\n",
    "user_log_2 = user_log_2.drop(*cols)"
   ]
  },
  {
   "cell_type": "markdown",
   "metadata": {},
   "source": [
    "<a id=\"FE\"></a>"
   ]
  },
  {
   "cell_type": "markdown",
   "metadata": {},
   "source": [
    "# Feature Engineering\n",
    "Once you've familiarized yourself with the data, build out the features you find promising to train your model on. To work with the full dataset, you can follow the following steps.\n",
    "- Write a script to extract the necessary features from the smaller subset of data\n",
    "- Ensure that your script is scalable, using the best practices discussed in Lesson 3\n",
    "- Try your script on the full data set, debugging your script if necessary\n",
    "\n",
    "If you are working in the classroom workspace, you can just extract features based on the small subset of data contained here. Be sure to transfer over this work to the larger dataset when you work on your Spark cluster."
   ]
  },
  {
   "cell_type": "code",
   "execution_count": 72,
   "metadata": {},
   "outputs": [
    {
     "name": "stdout",
     "output_type": "stream",
     "text": [
      "-RECORD 0---------------\n",
      " userId           | 0   \n",
      " gender           | 0   \n",
      " browser          | 0   \n",
      " device           | 0   \n",
      " state            | 0   \n",
      " total_sessions   | 0   \n",
      " avg_session_mins | 0   \n",
      " likes_ratio      | 0   \n",
      " dislikes_ratio   | 0   \n",
      " playlist_ratio   | 0   \n",
      " friend_ratio     | 0   \n",
      " addRoll_ratio    | 0   \n",
      " tenure           | 0   \n",
      " churn_ind        | 0   \n",
      " level            | 0   \n",
      "\n"
     ]
    }
   ],
   "source": [
    "# check for missing values\n",
    "user_log_2.select([F.count(F.when(F.col(c).contains('None') |\n",
    "                          F.col(c).contains('NULL') |\n",
    "                        (F.col(c) == '') |\n",
    "                        F.col(c).isNull() |\n",
    "                        F.isnan(c), c\n",
    "                 )).alias(c)\n",
    "                    for c in user_log_2.columns]).show(vertical=True)"
   ]
  },
  {
   "cell_type": "code",
   "execution_count": 121,
   "metadata": {
    "scrolled": true
   },
   "outputs": [
    {
     "name": "stdout",
     "output_type": "stream",
     "text": [
      "+------+-------+---------+--------------+----------------+-----------+--------------+--------------+------------+-------------+------+---------+-----+\n",
      "|gender|browser|   device|total_sessions|avg_session_mins|likes_ratio|dislikes_ratio|playlist_ratio|friend_ratio|addRoll_ratio|tenure|churn_ind|level|\n",
      "+------+-------+---------+--------------+----------------+-----------+--------------+--------------+------------+-------------+------+---------+-----+\n",
      "|     0| Safari|  Windows|            15|           452.3|       0.04|          0.03|          0.03|        0.02|          0.0|   116|        0| paid|\n",
      "|     0| Safari|Macintosh|            19|           392.4|       0.05|          0.01|          0.03|        0.02|         0.01|    74|        0| paid|\n",
      "+------+-------+---------+--------------+----------------+-----------+--------------+--------------+------------+-------------+------+---------+-----+\n",
      "only showing top 2 rows\n",
      "\n"
     ]
    }
   ],
   "source": [
    "user_log_2.show(2)"
   ]
  },
  {
   "cell_type": "code",
   "execution_count": null,
   "metadata": {},
   "outputs": [],
   "source": [
    "+------+-------+---------+--------------+----------------+-----------+--------------+--------------+------------+-------------+------+---------+-----+\n",
    "|gender|browser|   device|total_sessions|avg_session_mins|likes_ratio|dislikes_ratio|playlist_ratio|friend_ratio|addRoll_ratio|tenure|churn_ind|level|\n",
    "+------+-------+---------+--------------+----------------+-----------+--------------+--------------+------------+-------------+------+---------+-----+\n",
    "|     0| Safari|  Windows|            15|           452.3|       0.04|          0.03|          0.03|        0.02|          0.0|   116|        0| paid|\n",
    "|     0| Safari|Macintosh|            19|           392.4|       0.05|          0.01|          0.03|        0.02|         0.01|    74|        0| paid|\n",
    "+------+-------+---------+--------------+----------------+-----------+--------------+--------------+------------+-------------+------+---------+-----+"
   ]
  },
  {
   "cell_type": "code",
   "execution_count": 90,
   "metadata": {},
   "outputs": [],
   "source": [
    "#https://medium.com/@nutanbhogendrasharma/role-of-stringindexer-and-pipelines-in-pyspark-ml-feature-b79085bb8a6c\n",
    "\n",
    "#from collections import defaultdict\n",
    "\n",
    "#data_types = defaultdict(list)\n",
    "#for entry in (x for x in user_log.schema.fields if x not in ['StructField(StringType,true)']):\n",
    "#    data_types[str(entry.dataType)].append(entry.name)"
   ]
  },
  {
   "cell_type": "code",
   "execution_count": 109,
   "metadata": {
    "scrolled": true
   },
   "outputs": [
    {
     "name": "stdout",
     "output_type": "stream",
     "text": [
      "root\n",
      " |-- gender: integer (nullable = false)\n",
      " |-- browser: string (nullable = true)\n",
      " |-- device: string (nullable = true)\n",
      " |-- total_sessions: integer (nullable = false)\n",
      " |-- avg_session_mins: double (nullable = true)\n",
      " |-- likes_ratio: double (nullable = false)\n",
      " |-- dislikes_ratio: double (nullable = false)\n",
      " |-- playlist_ratio: double (nullable = false)\n",
      " |-- friend_ratio: double (nullable = true)\n",
      " |-- addRoll_ratio: double (nullable = true)\n",
      " |-- tenure: integer (nullable = true)\n",
      " |-- churn_ind: integer (nullable = false)\n",
      " |-- level: string (nullable = true)\n",
      "\n"
     ]
    }
   ],
   "source": [
    "user_log_2.printSchema()"
   ]
  },
  {
   "cell_type": "code",
   "execution_count": 26,
   "metadata": {},
   "outputs": [],
   "source": [
    "# Create pipeline to prepare data\n",
    "def feature_transformation(df): \n",
    "    \n",
    "    num_features = []\n",
    "\n",
    "    for i in range(len(df.dtypes)):\n",
    "        if df.dtypes[i][1] != 'string':\n",
    "            num_features.append(df.dtypes[i][0])\n",
    "        \n",
    "    num_features.remove('churn_ind')\n",
    "    \n",
    "    # stage_indexer = [StringIndexer(inputCol=c, outputCol= c+\"_string_encoded\") for c in cat_features]\n",
    "    # stage_one_hot = [OneHotEncoder(inputCol= c+\"_string_encoded\", outputCol= c+ \"_one_hot\") for c in cat_features]\n",
    "\n",
    "    indexer_level = StringIndexer(inputCol='level', outputCol='level_index')\n",
    "    indexer_device = StringIndexer(inputCol='device', outputCol='device_index')\n",
    "    #indexer_browser = StringIndexer(inputCol='browser', outputCol='browser_index')\n",
    "\n",
    "    encoder_level = OneHotEncoder(inputCol='level_index', outputCol='level_vec')\n",
    "    encoder_device = OneHotEncoder(inputCol='device_index', outputCol='device_vec')\n",
    "    #encoder_browser = OneHotEncoder(inputCol='browser_index', outputCol='browser_vec')\n",
    "\n",
    "    stage_num = VectorAssembler(inputCols=num_features, outputCol=\"NumFeatures\")\n",
    "    stage_scale = StandardScaler(inputCol=\"NumFeatures\", outputCol=\"ScaledNumFeatures\")\n",
    "\n",
    "    assembler_combined = VectorAssembler(inputCols=[\"ScaledNumFeatures\", \"level_vec\", \"device_vec\"],\\\n",
    "                                         outputCol='features', handleInvalid='skip')\n",
    "\n",
    "    features_pipeline = Pipeline(stages=[indexer_level, indexer_device, encoder_level, encoder_device,\n",
    "                                         stage_num, stage_scale, assembler_combined])\n",
    "\n",
    "    transformed_df = features_pipeline.fit(df).transform(df)\n",
    "    return transformed_df"
   ]
  },
  {
   "cell_type": "code",
   "execution_count": 27,
   "metadata": {
    "scrolled": true
   },
   "outputs": [
    {
     "name": "stdout",
     "output_type": "stream",
     "text": [
      "+-----+--------------------------------------------------------------------------------------------------------------------------------------------------------------------------------------+\n",
      "|label|features                                                                                                                                                                              |\n",
      "+-----+--------------------------------------------------------------------------------------------------------------------------------------------------------------------------------------+\n",
      "|0    |[0.0,1.0241085630941311,2.5576146878250126,1.7368193921337345,2.7813891847993806,1.8981651986641221,0.9130143537401039,0.0,3.0830271707188546,1.0,1.0,0.0,0.0,0.0,0.0]                |\n",
      "|0    |[0.0,1.2972041799192329,2.2188989686105125,2.1710242401671684,0.9271297282664602,1.8981651986641221,0.9130143537401039,0.19549619685824587,1.9667587123551313,1.0,0.0,1.0,0.0,0.0,0.0]|\n",
      "+-----+--------------------------------------------------------------------------------------------------------------------------------------------------------------------------------------+\n",
      "only showing top 2 rows\n",
      "\n"
     ]
    }
   ],
   "source": [
    "df = feature_transformation(user_log_2)\n",
    "df_2 = df.select(\"churn_ind\", \"features\").withColumnRenamed(\"churn_ind\", \"label\")\n",
    "\n",
    "df_2.show(2, truncate=False)"
   ]
  },
  {
   "cell_type": "code",
   "execution_count": null,
   "metadata": {},
   "outputs": [],
   "source": [
    "+-----+--------------------------------------------------------------------------------------------------------------------------------------------------------------------------------------+\n",
    "|label|features                                                                                                                                                                              |\n",
    "+-----+--------------------------------------------------------------------------------------------------------------------------------------------------------------------------------------+\n",
    "|0    |[0.0,1.0241085630941311,2.5576146878250126,1.7368193921337345,2.7813891847993806,1.8981651986641221,0.9130143537401039,0.0,3.0830271707188546,1.0,1.0,0.0,0.0,0.0,0.0]                |\n",
    "|0    |[0.0,1.2972041799192329,2.2188989686105125,2.1710242401671684,0.9271297282664602,1.8981651986641221,0.9130143537401039,0.19549619685824587,1.9667587123551313,1.0,0.0,1.0,0.0,0.0,0.0]|\n",
    "+-----+--------------------------------------------------------------------------------------------------------------------------------------------------------------------------------------+"
   ]
  },
  {
   "cell_type": "markdown",
   "metadata": {},
   "source": [
    "<a id=\"modeling\"></a>"
   ]
  },
  {
   "cell_type": "markdown",
   "metadata": {},
   "source": [
    "# Modeling\n",
    "Split the full dataset into train, test, and validation sets. Test out several of the machine learning methods you learned. Evaluate the accuracy of the various models, tuning parameters as necessary. Determine your winning model based on test accuracy and report results on the validation set. Since the churned users are a fairly small subset, I suggest using F1 score as the metric to optimize."
   ]
  },
  {
   "cell_type": "code",
   "execution_count": 29,
   "metadata": {},
   "outputs": [],
   "source": [
    "# Train Test Split\n",
    "train, test = df_2.randomSplit([0.7, 0.3], seed=42)"
   ]
  },
  {
   "cell_type": "code",
   "execution_count": 131,
   "metadata": {},
   "outputs": [
    {
     "name": "stdout",
     "output_type": "stream",
     "text": [
      "(163, 2)\n",
      "(62, 2)\n"
     ]
    }
   ],
   "source": [
    "print(shape(train))\n",
    "print(shape(test))"
   ]
  },
  {
   "cell_type": "markdown",
   "metadata": {},
   "source": [
    "**Evaluation Metrics**"
   ]
  },
  {
   "cell_type": "code",
   "execution_count": 30,
   "metadata": {},
   "outputs": [],
   "source": [
    "# Calculate accuracy and F-1 score\n",
    "def evaluate_model(predictions, model):\n",
    "    accuracy_evaluator = MulticlassClassificationEvaluator(metricName='accuracy')\n",
    "    accuracy = accuracy_evaluator.evaluate(predictions.select(F.col('label'), F.col('prediction')))\n",
    "\n",
    "    f1_evaluator = MulticlassClassificationEvaluator(metricName='f1')\n",
    "    f1_score = f1_evaluator.evaluate(predictions.select(F.col('label'), F.col('prediction')))\n",
    "\n",
    "    print('Model: {}'.format(model))\n",
    "    print('-------------------------------')\n",
    "    print('Accuracy : {:.2f}'.format(accuracy))\n",
    "    print('F1 score: {:.2f}'.format(f1_score))"
   ]
  },
  {
   "cell_type": "markdown",
   "metadata": {},
   "source": [
    "**Random Forest**"
   ]
  },
  {
   "cell_type": "markdown",
   "metadata": {},
   "source": [
    "**useful guide, that I adapted:** https://hackernoon.com/building-a-machine-learning-model-with-pyspark-a-step-by-step-guide-1z2d3ycd"
   ]
  },
  {
   "cell_type": "code",
   "execution_count": 125,
   "metadata": {},
   "outputs": [
    {
     "name": "stdout",
     "output_type": "stream",
     "text": [
      "elapsed time = 34.53918242454529\n"
     ]
    }
   ],
   "source": [
    "rf = RandomForestClassifier(featuresCol='features', labelCol='label', maxDepth=5)\n",
    "start_time = time.time()\n",
    "rfModel = rf.fit(train)\n",
    "rf_predictions = rfModel.transform(test)\n",
    "end_time = time.time()\n",
    "print('elapsed time = {}'.format(end_time-start_time))"
   ]
  },
  {
   "cell_type": "code",
   "execution_count": 126,
   "metadata": {},
   "outputs": [
    {
     "name": "stdout",
     "output_type": "stream",
     "text": [
      "Model: RandomForestClassificationModel (uid=RandomForestClassifier_488de096438d) with 20 trees\n",
      "-------------------------------\n",
      "Accuracy : 0.73\n",
      "F1 score: 0.67\n"
     ]
    }
   ],
   "source": [
    "evaluate_model(rf_predictions, rfModel)"
   ]
  },
  {
   "cell_type": "markdown",
   "metadata": {},
   "source": [
    "**GBTClassifier**"
   ]
  },
  {
   "cell_type": "code",
   "execution_count": 31,
   "metadata": {},
   "outputs": [
    {
     "name": "stdout",
     "output_type": "stream",
     "text": [
      "elapsed time = 348.91199588775635\n"
     ]
    }
   ],
   "source": [
    "gb = GBTClassifier(featuresCol='features', labelCol='label')\n",
    "start_time = time.time()\n",
    "gbModel = gb.fit(train)\n",
    "gb_predictions = gbModel.transform(test)\n",
    "end_time = time.time()\n",
    "print('elapsed time = {}'.format(end_time-start_time))"
   ]
  },
  {
   "cell_type": "code",
   "execution_count": 32,
   "metadata": {},
   "outputs": [
    {
     "name": "stdout",
     "output_type": "stream",
     "text": [
      "Model: GBTClassificationModel (uid=GBTClassifier_637f550ec742) with 20 trees\n",
      "-------------------------------\n",
      "Accuracy : 0.76\n",
      "F1 score: 0.75\n"
     ]
    }
   ],
   "source": [
    "evaluate_model(gb_predictions, gbModel)"
   ]
  },
  {
   "cell_type": "markdown",
   "metadata": {},
   "source": [
    "**Logistic Regression**"
   ]
  },
  {
   "cell_type": "code",
   "execution_count": 129,
   "metadata": {},
   "outputs": [
    {
     "name": "stdout",
     "output_type": "stream",
     "text": [
      "elapsed time = 109.74403285980225\n"
     ]
    }
   ],
   "source": [
    "logisticReg = LogisticRegression(featuresCol='features', labelCol='label')\n",
    "start_time = time.time()\n",
    "lrModel = logisticReg.fit(train)\n",
    "lr_predictions = lrModel.transform(test)\n",
    "end_time = time.time()\n",
    "print('elapsed time = {}'.format(end_time-start_time))\n",
    "# lr_predictions.select('prediction','label').show(10)"
   ]
  },
  {
   "cell_type": "code",
   "execution_count": 130,
   "metadata": {},
   "outputs": [
    {
     "name": "stdout",
     "output_type": "stream",
     "text": [
      "Model: LogisticRegressionModel: uid = LogisticRegression_7a12783aab97, numClasses = 2, numFeatures = 15\n",
      "-------------------------------\n",
      "Accuracy : 0.76\n",
      "F1 score: 0.71\n"
     ]
    }
   ],
   "source": [
    "evaluate_model(lr_predictions, lrModel)"
   ]
  },
  {
   "cell_type": "code",
   "execution_count": 143,
   "metadata": {},
   "outputs": [
    {
     "name": "stdout",
     "output_type": "stream",
     "text": [
      "Test Data Area under ROC score is :  0.7449494949494949\n"
     ]
    }
   ],
   "source": [
    "# check AUC - i found this method from the below post\n",
    "# https://towardsdatascience.com/building-an-ml-application-with-mllib-in-pyspark-part-1-ac13f01606e2\n",
    "\n",
    "results = rf_predictions.select(['probability', 'label'])\n",
    " \n",
    "## prepare score-label set\n",
    "results_collect = results.collect()\n",
    "results_list = [(float(i[0][0]), 1.0-float(i[1])) for i in results_collect]\n",
    "scoreAndLabels = spark.sparkContext.parallelize(results_list)\n",
    " \n",
    "metrics = metric(scoreAndLabels)\n",
    "print(\"Test Data Area under ROC score is : \", metrics.areaUnderROC)"
   ]
  },
  {
   "cell_type": "code",
   "execution_count": 144,
   "metadata": {
    "scrolled": true
   },
   "outputs": [
    {
     "data": {
      "image/png": "[encoded data removed]",
      "text/plain": [
       "<matplotlib.figure.Figure at 0x7f78a064a240>"
      ]
     },
     "metadata": {
      "needs_background": "light"
     },
     "output_type": "display_data"
    }
   ],
   "source": [
    "# plot ROC\n",
    " \n",
    "fpr = dict()\n",
    "tpr = dict()\n",
    "roc_auc = dict()\n",
    " \n",
    "y_test = [i[1] for i in results_list]\n",
    "y_score = [i[0] for i in results_list]\n",
    " \n",
    "fpr, tpr, _ = roc_curve(y_test, y_score)\n",
    "roc_auc = auc(fpr, tpr)\n",
    " \n",
    "%matplotlib inline\n",
    "plt.figure()\n",
    "plt.plot(fpr, tpr, label='ROC curve (area = %0.2f)' % roc_auc)\n",
    "plt.plot([0, 1], [0, 1], 'k--')\n",
    "plt.xlim([0.0, 1.0])\n",
    "plt.ylim([0.0, 1.05])\n",
    "plt.xlabel('False Positive Rate')\n",
    "plt.ylabel('True Positive Rate')\n",
    "plt.title('Receiver operating characteristic Graph')\n",
    "plt.legend(loc=\"lower right\")\n",
    "plt.show()"
   ]
  },
  {
   "cell_type": "markdown",
   "metadata": {},
   "source": [
    "**Grid Search**"
   ]
  },
  {
   "cell_type": "code",
   "execution_count": 52,
   "metadata": {},
   "outputs": [],
   "source": [
    "# instantiate model\n",
    "gbt_2 = GBTClassifier()\n",
    "\n",
    "# grid-search\n",
    "paramGrid = ParamGridBuilder() \\\n",
    "                .addGrid(gbt_2.maxIter, [10, 20]) \\\n",
    "                .addGrid(gbt_2.maxDepth, [4, 8]) \\\n",
    "                .build()\n",
    "#                .addGrid(gbt_2.stepSize, [0.05, 0.1, 0.2]) \\# it was taking too long to run this step\n",
    "\n",
    "# cross-validation\n",
    "cv = CrossValidator(estimator=gbt_2,\n",
    "                    estimatorParamMaps=paramGrid,\n",
    "                    evaluator=MulticlassClassificationEvaluator(metricName='f1'),\n",
    "                    numFolds=3)"
   ]
  },
  {
   "cell_type": "code",
   "execution_count": 50,
   "metadata": {},
   "outputs": [],
   "source": [
    "new_rf = RandomForestClassifier()\n",
    "\n",
    "paramGrid = ParamGridBuilder() \\\n",
    "    .addGrid(new_rf.maxDepth, [5, 10, 15, 20]) \\\n",
    "    .addGrid(new_rf.numTrees, [10, 20, 30, 50]) \\\n",
    "    .build()\n",
    "\n",
    "cv = CrossValidator(estimator=new_rf,\n",
    "                          estimatorParamMaps=paramGrid,\n",
    "                          evaluator=MulticlassClassificationEvaluator(metricName='f1'),\n",
    "                          numFolds=3)"
   ]
  },
  {
   "cell_type": "code",
   "execution_count": 53,
   "metadata": {
    "scrolled": true
   },
   "outputs": [
    {
     "name": "stdout",
     "output_type": "stream",
     "text": [
      "elapsed time = 4271.277796983719\n"
     ]
    }
   ],
   "source": [
    "start_time = time.time()\n",
    "cvModel = cv.fit(train)\n",
    "end_time = time.time()\n",
    "print('elapsed time = {}'.format(end_time-start_time))"
   ]
  },
  {
   "cell_type": "code",
   "execution_count": 54,
   "metadata": {},
   "outputs": [
    {
     "data": {
      "text/plain": [
       "[0.7610123989960731,\n",
       " 0.7179668284931444,\n",
       " 0.7467246839100387,\n",
       " 0.7136639025034713]"
      ]
     },
     "execution_count": 54,
     "metadata": {},
     "output_type": "execute_result"
    }
   ],
   "source": [
    "cvModel.avgMetrics"
   ]
  },
  {
   "cell_type": "code",
   "execution_count": 55,
   "metadata": {},
   "outputs": [],
   "source": [
    "# get best parameters\n",
    "best_model = cvModel.bestModel"
   ]
  },
  {
   "cell_type": "code",
   "execution_count": 56,
   "metadata": {},
   "outputs": [
    {
     "data": {
      "text/plain": [
       "GBTClassificationModel (uid=GBTClassifier_f0b67819eb7a) with 10 trees"
      ]
     },
     "execution_count": 56,
     "metadata": {},
     "output_type": "execute_result"
    }
   ],
   "source": [
    "best_model"
   ]
  },
  {
   "cell_type": "code",
   "execution_count": 57,
   "metadata": {},
   "outputs": [],
   "source": [
    "# transform test set\n",
    "results = cvModel.transform(test)"
   ]
  },
  {
   "cell_type": "code",
   "execution_count": 58,
   "metadata": {},
   "outputs": [
    {
     "name": "stdout",
     "output_type": "stream",
     "text": [
      "Model: GBTClassifier_f0b67819eb7a\n",
      "-------------------------------\n",
      "Accuracy : 0.71\n",
      "F1 score: 0.68\n"
     ]
    }
   ],
   "source": [
    "# evaluate results\n",
    "evaluate_model(results, gbt_2)"
   ]
  },
  {
   "cell_type": "code",
   "execution_count": null,
   "metadata": {},
   "outputs": [],
   "source": [
    "# This is not as good as the orginal model, however it was taking such a long time to run on my machine \n",
    "# and the Udacity session reguarly time-out on me. Hopefully, this demonstrates the proess that I followed though."
   ]
  },
  {
   "cell_type": "markdown",
   "metadata": {},
   "source": [
    "# Final Steps\n",
    "Clean up your code, adding comments and renaming variables to make the code easier to read and maintain. Refer to the Spark Project Overview page and Data Scientist Capstone Project Rubric to make sure you are including all components of the capstone project and meet all expectations. Remember, this includes thorough documentation in a README file in a Github repository, as well as a web app or blog post."
   ]
  },
  {
   "cell_type": "code",
   "execution_count": null,
   "metadata": {},
   "outputs": [],
   "source": []
  }
 ],
 "metadata": {
  "kernelspec": {
   "display_name": "Python 3",
   "language": "python",
   "name": "python3"
  },
  "language_info": {
   "codemirror_mode": {
    "name": "ipython",
    "version": 3
   },
   "file_extension": ".py",
   "mimetype": "text/x-python",
   "name": "python",
   "nbconvert_exporter": "python",
   "pygments_lexer": "ipython3",
   "version": "3.6.3"
  }
 },
 "nbformat": 4,
 "nbformat_minor": 2
}
